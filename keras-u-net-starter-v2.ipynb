{
 "cells": [
  {
   "cell_type": "code",
   "execution_count": 1,
   "metadata": {},
   "outputs": [
    {
     "name": "stderr",
     "output_type": "stream",
     "text": [
      "/usr/local/lib/python2.7/dist-packages/h5py/__init__.py:34: FutureWarning: Conversion of the second argument of issubdtype from `float` to `np.floating` is deprecated. In future, it will be treated as `np.float64 == np.dtype(float).type`.\n",
      "  from ._conv import register_converters as _register_converters\n",
      "Using TensorFlow backend.\n"
     ]
    },
    {
     "name": "stdout",
     "output_type": "stream",
     "text": [
      "2.7579927\n",
      "3.7836285\n"
     ]
    }
   ],
   "source": [
    "import os\n",
    "os.environ['PYTHONHASHSEED'] = '0'\n",
    "\n",
    "import tensorflow as tf\n",
    "import numpy as np\n",
    "tf.reset_default_graph()\n",
    "\n",
    "random_seed = 42\n",
    "from numpy.random import seed\n",
    "seed(random_seed)\n",
    "from tensorflow import set_random_seed\n",
    "set_random_seed(random_seed)\n",
    "import random\n",
    "random.seed(random_seed)\n",
    "#print(random.getstate())\n",
    "\n",
    "from keras import backend as K\n",
    "\n",
    "with tf.device('/gpu:0'):\n",
    "    c = tf.random_uniform([], -10, 10)\n",
    "    d = tf.random_uniform([], -10, 10)\n",
    "\n",
    "with tf.Session(config=tf.ConfigProto(log_device_placement=True)) as sess:\n",
    "    print(sess.run(c))\n",
    "    print(sess.run(d))\n",
    "    \n",
    "    \n",
    "session_conf = tf.ConfigProto(intra_op_parallelism_threads=1, inter_op_parallelism_threads=1)   \n",
    "sess = tf.Session(graph=tf.get_default_graph(), config=session_conf)    \n",
    "\n",
    "K.set_session(sess)    \n",
    "#print(sess)\n",
    "#config = tf.ConfigProto(\n",
    "#        device_count = {'GPU': 0}\n",
    "#    )\n",
    "#sess = tf.Session(config=config)\n",
    "# https://machinelearningmastery.com/reproducible-results-neural-networks-keras/\n",
    "# https://stackoverflow.com/questions/45230448/how-to-get-reproducible-result-when-running-keras-with-tensorflow-backend\n",
    "# https://stackoverflow.com/questions/46836857/results-not-reproducible-with-keras-and-tensorflow-in-python"
   ]
  },
  {
   "cell_type": "code",
   "execution_count": 2,
   "metadata": {},
   "outputs": [
    {
     "name": "stdout",
     "output_type": "stream",
     "text": [
      "2.1.3\n"
     ]
    }
   ],
   "source": [
    "import os\n",
    "import sys\n",
    "import warnings\n",
    "\n",
    "import pandas as pd\n",
    "\n",
    "import matplotlib.pyplot as plt\n",
    "\n",
    "from tqdm import tqdm\n",
    "from itertools import chain\n",
    "from skimage.io import imread, imshow, imread_collection, concatenate_images\n",
    "from skimage.transform import resize\n",
    "from skimage.morphology import label\n",
    "\n",
    "from keras.models import Model, load_model\n",
    "from keras.layers import Input\n",
    "from keras.layers.core import Lambda\n",
    "from keras.layers.convolutional import Conv2D, Conv2DTranspose\n",
    "from keras.layers.pooling import MaxPooling2D\n",
    "from keras.layers.merge import concatenate\n",
    "from keras.callbacks import EarlyStopping, ModelCheckpoint\n",
    "\n",
    "import keras\n",
    "print(keras.__version__)"
   ]
  },
  {
   "cell_type": "code",
   "execution_count": 3,
   "metadata": {},
   "outputs": [],
   "source": [
    "# Set some parameters\n",
    "IMG_WIDTH = 128\n",
    "IMG_HEIGHT = 128\n",
    "IMG_CHANNELS = 3\n",
    "TRAIN_PATH = 'data/stage1_train/'\n",
    "TEST_PATH = 'data/stage1_test/'\n",
    "DATA_PATH = 'data/'\n",
    "\n",
    "warnings.filterwarnings('ignore', category=UserWarning, module='skimage')"
   ]
  },
  {
   "cell_type": "code",
   "execution_count": 4,
   "metadata": {},
   "outputs": [
    {
     "name": "stdout",
     "output_type": "stream",
     "text": [
      "670\n",
      "65\n"
     ]
    }
   ],
   "source": [
    "# Get train and test IDs\n",
    "train_ids = next(os.walk(TRAIN_PATH))[1]\n",
    "test_ids = next(os.walk(TEST_PATH))[1]\n",
    "print(len(train_ids))\n",
    "print(len(test_ids))"
   ]
  },
  {
   "cell_type": "code",
   "execution_count": 5,
   "metadata": {},
   "outputs": [
    {
     "name": "stdout",
     "output_type": "stream",
     "text": [
      "/home/chen/workspace/git_examples/kaggle-nuclei-challenge\n"
     ]
    }
   ],
   "source": [
    "current_dir = os.getcwd()\n",
    "print(current_dir)"
   ]
  },
  {
   "cell_type": "code",
   "execution_count": 6,
   "metadata": {},
   "outputs": [],
   "source": [
    "import bcolz\n",
    "def save_array(fname, arr): c=bcolz.carray(arr, rootdir=fname, mode='w'); c.flush()\n",
    "def load_array(fname): return bcolz.open(fname)[:]"
   ]
  },
  {
   "cell_type": "markdown",
   "metadata": {},
   "source": [
    "# Get and resize train images and masks\n",
    "X_train = np.zeros((len(train_ids), IMG_HEIGHT, IMG_WIDTH, IMG_CHANNELS), dtype=np.uint8)\n",
    "Y_train = np.zeros((len(train_ids), IMG_HEIGHT, IMG_WIDTH, 1), dtype=np.bool)\n",
    "print('Getting and resizing train images and masks ... ')\n",
    "sys.stdout.flush()\n",
    "for n, id_ in tqdm(enumerate(train_ids), total=len(train_ids)):\n",
    "    path = TRAIN_PATH + id_\n",
    "    img = imread(path + '/images/' + id_ + '.png')[:,:,:IMG_CHANNELS]\n",
    "    img = resize(img, (IMG_HEIGHT, IMG_WIDTH), mode='constant', preserve_range=True)\n",
    "    X_train[n] = img\n",
    "    mask = np.zeros((IMG_HEIGHT, IMG_WIDTH, 1), dtype=np.bool)\n",
    "    for mask_file in next(os.walk(path + '/masks/'))[2]:\n",
    "        mask_ = imread(path + '/masks/' + mask_file)\n",
    "        mask_ = np.expand_dims(resize(mask_, (IMG_HEIGHT, IMG_WIDTH), mode='constant', \n",
    "                                      preserve_range=True), axis=-1)\n",
    "        mask = np.maximum(mask, mask_)\n",
    "    Y_train[n] = mask\n",
    "\n",
    "# Get and resize test images\n",
    "X_test = np.zeros((len(test_ids), IMG_HEIGHT, IMG_WIDTH, IMG_CHANNELS), dtype=np.uint8)\n",
    "sizes_test = []\n",
    "print('Getting and resizing test images ... ')\n",
    "sys.stdout.flush()\n",
    "for n, id_ in tqdm(enumerate(test_ids), total=len(test_ids)):\n",
    "    path = TEST_PATH + id_\n",
    "    img = imread(path + '/images/' + id_ + '.png')[:,:,:IMG_CHANNELS]\n",
    "    sizes_test.append([img.shape[0], img.shape[1]])\n",
    "    img = resize(img, (IMG_HEIGHT, IMG_WIDTH), mode='constant', preserve_range=True)\n",
    "    X_test[n] = img\n",
    "\n",
    "save_array(DATA_PATH + 'X_train.bc', X_train)\n",
    "save_array(DATA_PATH + 'Y_train.bc', Y_train)\n",
    "save_array(DATA_PATH + 'X_test.bc', X_test)\n",
    "\n",
    "print('Done!')"
   ]
  },
  {
   "cell_type": "code",
   "execution_count": 7,
   "metadata": {},
   "outputs": [],
   "source": [
    "X_train = load_array(DATA_PATH + 'X_train.bc')\n",
    "Y_train = load_array(DATA_PATH + 'Y_train.bc')\n",
    "X_test = load_array(DATA_PATH + 'X_test.bc')"
   ]
  },
  {
   "cell_type": "code",
   "execution_count": 8,
   "metadata": {},
   "outputs": [
    {
     "name": "stdout",
     "output_type": "stream",
     "text": [
      "102\n"
     ]
    },
    {
     "name": "stderr",
     "output_type": "stream",
     "text": [
      "/usr/local/lib/python2.7/dist-packages/skimage/io/_plugins/matplotlib_plugin.py:51: FutureWarning: Conversion of the second argument of issubdtype from `float` to `np.floating` is deprecated. In future, it will be treated as `np.float64 == np.dtype(float).type`.\n",
      "  out_of_range_float = (np.issubdtype(image.dtype, np.float) and\n"
     ]
    },
    {
     "data": {
      "image/png": "[encoded data removed]",
      "text/plain": [
       "<matplotlib.figure.Figure at 0x7f426bd8fe90>"
      ]
     },
     "metadata": {},
     "output_type": "display_data"
    },
    {
     "data": {
      "image/png": "[encoded data removed]",
      "text/plain": [
       "<matplotlib.figure.Figure at 0x7f426152f810>"
      ]
     },
     "metadata": {},
     "output_type": "display_data"
    }
   ],
   "source": [
    "# Check if training data looks all right\n",
    "ix = np.random.randint(0, len(train_ids))\n",
    "print(ix)\n",
    "imshow(X_train[ix])\n",
    "plt.show()\n",
    "imshow(np.squeeze(Y_train[ix]))\n",
    "plt.show()"
   ]
  },
  {
   "cell_type": "code",
   "execution_count": 9,
   "metadata": {},
   "outputs": [],
   "source": [
    "# Define IoU metric\n",
    "def mean_iou(y_true, y_pred):\n",
    "    prec = []\n",
    "    for t in np.arange(0.5, 1.0, 0.05):\n",
    "        y_pred_ = tf.to_int32(y_pred > t)\n",
    "        score, up_opt = tf.metrics.mean_iou(y_true, y_pred_, 2)\n",
    "        K.get_session().run(tf.local_variables_initializer())\n",
    "        with tf.control_dependencies([up_opt]):\n",
    "            score = tf.identity(score)\n",
    "        prec.append(score)\n",
    "    return K.mean(K.stack(prec), axis=0)"
   ]
  },
  {
   "cell_type": "code",
   "execution_count": 10,
   "metadata": {},
   "outputs": [],
   "source": [
    "# Build U-Net model\n",
    "inputs = Input((IMG_HEIGHT, IMG_WIDTH, IMG_CHANNELS))\n",
    "s = Lambda(lambda x: x / 255) (inputs)\n",
    "\n",
    "c1 = Conv2D(8, (3, 3), activation='relu', padding='same') (s)\n",
    "c1 = Conv2D(8, (3, 3), activation='relu', padding='same') (c1)\n",
    "p1 = MaxPooling2D((2, 2)) (c1)\n",
    "\n",
    "c2 = Conv2D(16, (3, 3), activation='relu', padding='same') (p1)\n",
    "c2 = Conv2D(16, (3, 3), activation='relu', padding='same') (c2)\n",
    "p2 = MaxPooling2D((2, 2)) (c2)\n",
    "\n",
    "c3 = Conv2D(32, (3, 3), activation='relu', padding='same') (p2)\n",
    "c3 = Conv2D(32, (3, 3), activation='relu', padding='same') (c3)\n",
    "p3 = MaxPooling2D((2, 2)) (c3)\n",
    "\n",
    "c4 = Conv2D(64, (3, 3), activation='relu', padding='same') (p3)\n",
    "c4 = Conv2D(64, (3, 3), activation='relu', padding='same') (c4)\n",
    "p4 = MaxPooling2D(pool_size=(2, 2)) (c4)\n",
    "\n",
    "c5 = Conv2D(128, (3, 3), activation='relu', padding='same') (p4)\n",
    "c5 = Conv2D(128, (3, 3), activation='relu', padding='same') (c5)\n",
    "\n",
    "u6 = Conv2DTranspose(64, (2, 2), strides=(2, 2), padding='same') (c5)\n",
    "u6 = concatenate([u6, c4])\n",
    "c6 = Conv2D(64, (3, 3), activation='relu', padding='same') (u6)\n",
    "c6 = Conv2D(64, (3, 3), activation='relu', padding='same') (c6)\n",
    "\n",
    "u7 = Conv2DTranspose(32, (2, 2), strides=(2, 2), padding='same') (c6)\n",
    "u7 = concatenate([u7, c3])\n",
    "c7 = Conv2D(32, (3, 3), activation='relu', padding='same') (u7)\n",
    "c7 = Conv2D(32, (3, 3), activation='relu', padding='same') (c7)\n",
    "\n",
    "u8 = Conv2DTranspose(16, (2, 2), strides=(2, 2), padding='same') (c7)\n",
    "u8 = concatenate([u8, c2])\n",
    "c8 = Conv2D(16, (3, 3), activation='relu', padding='same') (u8)\n",
    "c8 = Conv2D(16, (3, 3), activation='relu', padding='same') (c8)\n",
    "\n",
    "u9 = Conv2DTranspose(8, (2, 2), strides=(2, 2), padding='same') (c8)\n",
    "u9 = concatenate([u9, c1], axis=3)\n",
    "c9 = Conv2D(8, (3, 3), activation='relu', padding='same') (u9)\n",
    "c9 = Conv2D(8, (3, 3), activation='relu', padding='same') (c9)\n",
    "\n",
    "outputs = Conv2D(1, (1, 1), activation='sigmoid') (c9)\n",
    "\n",
    "model = Model(inputs=[inputs], outputs=[outputs])\n",
    "model.compile(optimizer='adam', loss='binary_crossentropy', metrics=[mean_iou])\n",
    "#model.summary()"
   ]
  },
  {
   "cell_type": "code",
   "execution_count": 11,
   "metadata": {},
   "outputs": [
    {
     "name": "stdout",
     "output_type": "stream",
     "text": [
      "Train on 603 samples, validate on 67 samples\n",
      "Epoch 1/10\n",
      "584/603 [============================>.] - ETA: 0s - loss: 0.5708 - mean_iou: 0.4157\n",
      "Epoch 00001: val_loss improved from inf to 0.44806, saving model to model-tmp.h5\n",
      "603/603 [==============================] - 3s 5ms/step - loss: 0.5661 - mean_iou: 0.4160 - val_loss: 0.4481 - val_mean_iou: 0.4246\n",
      "Epoch 2/10\n",
      "584/603 [============================>.] - ETA: 0s - loss: 0.3599 - mean_iou: 0.4246\n",
      "Epoch 00002: val_loss improved from 0.44806 to 0.27867, saving model to model-tmp.h5\n",
      "603/603 [==============================] - 2s 3ms/step - loss: 0.3580 - mean_iou: 0.4246 - val_loss: 0.2787 - val_mean_iou: 0.4246\n",
      "Epoch 3/10\n",
      "584/603 [============================>.] - ETA: 0s - loss: 0.2199 - mean_iou: 0.4380\n",
      "Epoch 00003: val_loss improved from 0.27867 to 0.20745, saving model to model-tmp.h5\n",
      "603/603 [==============================] - 2s 3ms/step - loss: 0.2175 - mean_iou: 0.4387 - val_loss: 0.2075 - val_mean_iou: 0.4636\n",
      "Epoch 4/10\n",
      "584/603 [============================>.] - ETA: 0s - loss: 0.1900 - mean_iou: 0.4849\n",
      "Epoch 00004: val_loss improved from 0.20745 to 0.19584, saving model to model-tmp.h5\n",
      "603/603 [==============================] - 2s 3ms/step - loss: 0.1884 - mean_iou: 0.4854 - val_loss: 0.1958 - val_mean_iou: 0.5014\n",
      "Epoch 5/10\n",
      "584/603 [============================>.] - ETA: 0s - loss: 0.1534 - mean_iou: 0.5175\n",
      "Epoch 00005: val_loss improved from 0.19584 to 0.17821, saving model to model-tmp.h5\n",
      "603/603 [==============================] - 2s 3ms/step - loss: 0.1539 - mean_iou: 0.5181 - val_loss: 0.1782 - val_mean_iou: 0.5364\n",
      "Epoch 6/10\n",
      "584/603 [============================>.] - ETA: 0s - loss: 0.1314 - mean_iou: 0.5523\n",
      "Epoch 00006: val_loss improved from 0.17821 to 0.15107, saving model to model-tmp.h5\n",
      "603/603 [==============================] - 2s 3ms/step - loss: 0.1307 - mean_iou: 0.5528 - val_loss: 0.1511 - val_mean_iou: 0.5694\n",
      "Epoch 7/10\n",
      "584/603 [============================>.] - ETA: 0s - loss: 0.1172 - mean_iou: 0.5835\n",
      "Epoch 00007: val_loss improved from 0.15107 to 0.13582, saving model to model-tmp.h5\n",
      "603/603 [==============================] - 2s 3ms/step - loss: 0.1171 - mean_iou: 0.5839 - val_loss: 0.1358 - val_mean_iou: 0.5976\n",
      "Epoch 8/10\n",
      "584/603 [============================>.] - ETA: 0s - loss: 0.1067 - mean_iou: 0.6102\n",
      "Epoch 00008: val_loss did not improve\n",
      "603/603 [==============================] - 2s 3ms/step - loss: 0.1064 - mean_iou: 0.6105 - val_loss: 0.1391 - val_mean_iou: 0.6214\n",
      "Epoch 9/10\n",
      "584/603 [============================>.] - ETA: 0s - loss: 0.1039 - mean_iou: 0.6308\n",
      "Epoch 00009: val_loss improved from 0.13582 to 0.11824, saving model to model-tmp.h5\n",
      "603/603 [==============================] - 2s 3ms/step - loss: 0.1035 - mean_iou: 0.6311 - val_loss: 0.1182 - val_mean_iou: 0.6407\n",
      "Epoch 10/10\n",
      "584/603 [============================>.] - ETA: 0s - loss: 0.0911 - mean_iou: 0.6495\n",
      "Epoch 00010: val_loss did not improve\n",
      "603/603 [==============================] - 2s 3ms/step - loss: 0.0922 - mean_iou: 0.6498 - val_loss: 0.1206 - val_mean_iou: 0.6584\n"
     ]
    }
   ],
   "source": [
    "earlystopper = EarlyStopping(patience=5, verbose=1)\n",
    "checkpointer = ModelCheckpoint('model-tmp.h5', verbose=1, save_best_only=True)\n",
    "\n",
    "results = model.fit(X_train, Y_train, validation_split=0.1, batch_size=8, epochs=10, \n",
    "                    callbacks=[earlystopper, checkpointer])\n",
    "K.clear_session()"
   ]
  },
  {
   "cell_type": "markdown",
   "metadata": {},
   "source": [
    "Train on 603 samples, validate on 67 samples\n",
    "Epoch 1/10\n",
    "584/603 [============================>.] - ETA: 0s - loss: 0.5710 - mean_iou: 0.4157\n",
    "Epoch 00001: val_loss improved from inf to 0.44764, saving model to model-tmp.h5\n",
    "603/603 [==============================] - 3s 4ms/step - loss: 0.5662 - mean_iou: 0.4160 - val_loss: 0.4476 - val_mean_iou: 0.4246\n",
    "Epoch 2/10\n",
    "584/603 [============================>.] - ETA: 0s - loss: 0.3540 - mean_iou: 0.4247\n",
    "Epoch 00002: val_loss improved from 0.44764 to 0.26642, saving model to model-tmp.h5\n",
    "603/603 [==============================] - 2s 3ms/step - loss: 0.3524 - mean_iou: 0.4247 - val_loss: 0.2664 - val_mean_iou: 0.4253\n",
    "Epoch 3/10\n",
    "584/603 [============================>.] - ETA: 0s - loss: 0.2112 - mean_iou: 0.4416\n",
    "Epoch 00003: val_loss improved from 0.26642 to 0.20243, saving model to model-tmp.h5\n",
    "603/603 [==============================] - 2s 3ms/step - loss: 0.2091 - mean_iou: 0.4424 - val_loss: 0.2024 - val_mean_iou: 0.4699\n",
    "Epoch 4/10\n",
    "584/603 [============================>.] - ETA: 0s - loss: 0.1762 - mean_iou: 0.4936\n",
    "Epoch 00004: val_loss improved from 0.20243 to 0.17799, saving model to model-tmp.h5\n",
    "603/603 [==============================] - 2s 3ms/step - loss: 0.1746 - mean_iou: 0.4942 - val_loss: 0.1780 - val_mean_iou: 0.5151\n",
    "Epoch 5/10\n",
    "584/603 [============================>.] - ETA: 0s - loss: 0.1398 - mean_iou: 0.5352\n",
    "Epoch 00005: val_loss improved from 0.17799 to 0.16356, saving model to model-tmp.h5\n",
    "603/603 [==============================] - 2s 3ms/step - loss: 0.1403 - mean_iou: 0.5358 - val_loss: 0.1636 - val_mean_iou: 0.5555\n",
    "Epoch 6/10\n",
    "584/603 [============================>.] - ETA: 0s - loss: 0.1178 - mean_iou: 0.5721\n",
    "Epoch 00006: val_loss improved from 0.16356 to 0.13927, saving model to model-tmp.h5\n",
    "603/603 [==============================] - 2s 3ms/step - loss: 0.1174 - mean_iou: 0.5726 - val_loss: 0.1393 - val_mean_iou: 0.5897\n",
    "Epoch 7/10\n",
    "584/603 [============================>.] - ETA: 0s - loss: 0.1064 - mean_iou: 0.6041\n",
    "Epoch 00007: val_loss improved from 0.13927 to 0.13027, saving model to model-tmp.h5\n",
    "603/603 [==============================] - 2s 3ms/step - loss: 0.1062 - mean_iou: 0.6045 - val_loss: 0.1303 - val_mean_iou: 0.6181\n",
    "Epoch 8/10\n",
    "584/603 [============================>.] - ETA: 0s - loss: 0.0959 - mean_iou: 0.6302\n",
    "Epoch 00008: val_loss improved from 0.13027 to 0.11765, saving model to model-tmp.h5\n",
    "603/603 [==============================] - 2s 3ms/step - loss: 0.0953 - mean_iou: 0.6305 - val_loss: 0.1177 - val_mean_iou: 0.6415\n",
    "Epoch 9/10\n",
    "584/603 [============================>.] - ETA: 0s - loss: 0.0963 - mean_iou: 0.6507\n",
    "Epoch 00009: val_loss improved from 0.11765 to 0.11530, saving model to model-tmp.h5\n",
    "603/603 [==============================] - 2s 3ms/step - loss: 0.0964 - mean_iou: 0.6509 - val_loss: 0.1153 - val_mean_iou: 0.6599\n",
    "Epoch 10/10\n",
    "584/603 [============================>.] - ETA: 0s - loss: 0.0869 - mean_iou: 0.6681\n",
    "Epoch 00010: val_loss improved from 0.11530 to 0.11440, saving model to model-tmp.h5\n",
    "603/603 [==============================] - 2s 3ms/step - loss: 0.0881 - mean_iou: 0.6684 - val_loss: 0.1144 - val_mean_iou: 0.6762"
   ]
  },
  {
   "cell_type": "code",
   "execution_count": 11,
   "metadata": {},
   "outputs": [
    {
     "name": "stdout",
     "output_type": "stream",
     "text": [
      "603/603 [==============================] - 0s 663us/step\n",
      "67/67 [==============================] - 0s 390us/step\n",
      "65/65 [==============================] - 0s 610us/step\n"
     ]
    }
   ],
   "source": [
    "# Predict on train, val and test\n",
    "model = load_model('model-tmp.h5', custom_objects={'mean_iou': mean_iou})\n",
    "preds_train = model.predict(X_train[:int(X_train.shape[0]*0.9)], verbose=1)\n",
    "preds_val = model.predict(X_train[int(X_train.shape[0]*0.9):], verbose=1)\n",
    "preds_test = model.predict(X_test, verbose=1)\n",
    "\n",
    "# Threshold predictions\n",
    "preds_train_t = (preds_train > 0.5).astype(np.uint8)\n",
    "preds_val_t = (preds_val > 0.5).astype(np.uint8)\n",
    "preds_test_t = (preds_test > 0.5).astype(np.uint8)\n",
    "\n",
    "# Create list of upsampled test masks\n",
    "preds_test_upsampled = []\n",
    "for i in range(len(preds_test)):\n",
    "    preds_test_upsampled.append(resize(np.squeeze(preds_test[i]), \n",
    "                                       (sizes_test[i][0], sizes_test[i][1]), \n",
    "                                       mode='constant', preserve_range=True))"
   ]
  },
  {
   "cell_type": "code",
   "execution_count": 12,
   "metadata": {},
   "outputs": [
    {
     "data": {
      "image/png": "[encoded data removed]",
      "text/plain": [
       "<matplotlib.figure.Figure at 0x7fdf89f3df50>"
      ]
     },
     "metadata": {},
     "output_type": "display_data"
    },
    {
     "data": {
      "image/png": "[encoded data removed]",
      "text/plain": [
       "<matplotlib.figure.Figure at 0x7fdf5d62e050>"
      ]
     },
     "metadata": {},
     "output_type": "display_data"
    },
    {
     "data": {
      "image/png": "[encoded data removed]",
      "text/plain": [
       "<matplotlib.figure.Figure at 0x7fdf5d5ba690>"
      ]
     },
     "metadata": {},
     "output_type": "display_data"
    }
   ],
   "source": [
    "# Perform a sanity check on some random training samples\n",
    "ix = random.randint(0, len(preds_train_t))\n",
    "imshow(X_train[ix])\n",
    "plt.show()\n",
    "imshow(np.squeeze(Y_train[ix]))\n",
    "plt.show()\n",
    "imshow(np.squeeze(preds_train_t[ix]))\n",
    "plt.show()"
   ]
  },
  {
   "cell_type": "code",
   "execution_count": 13,
   "metadata": {},
   "outputs": [
    {
     "data": {
      "image/png": "[encoded data removed]",
      "text/plain": [
       "<matplotlib.figure.Figure at 0x7fdf5d42af90>"
      ]
     },
     "metadata": {},
     "output_type": "display_data"
    },
    {
     "data": {
      "image/png": "[encoded data removed]",
      "text/plain": [
       "<matplotlib.figure.Figure at 0x7fdf5d387650>"
      ]
     },
     "metadata": {},
     "output_type": "display_data"
    },
    {
     "data": {
      "image/png": "[encoded data removed]",
      "text/plain": [
       "<matplotlib.figure.Figure at 0x7fdf5d2a34d0>"
      ]
     },
     "metadata": {},
     "output_type": "display_data"
    }
   ],
   "source": [
    "# Perform a sanity check on some random validation samples\n",
    "ix = random.randint(0, len(preds_val_t))\n",
    "imshow(X_train[int(X_train.shape[0]*0.9):][ix])\n",
    "plt.show()\n",
    "imshow(np.squeeze(Y_train[int(Y_train.shape[0]*0.9):][ix]))\n",
    "plt.show()\n",
    "imshow(np.squeeze(preds_val_t[ix]))\n",
    "plt.show()"
   ]
  },
  {
   "cell_type": "code",
   "execution_count": 14,
   "metadata": {},
   "outputs": [],
   "source": [
    "# Run-length encoding stolen from https://www.kaggle.com/rakhlin/fast-run-length-encoding-python\n",
    "def rle_encoding(x):\n",
    "    dots = np.where(x.T.flatten() == 1)[0]\n",
    "    run_lengths = []\n",
    "    prev = -2\n",
    "    for b in dots:\n",
    "        if (b>prev+1): run_lengths.extend((b + 1, 0))\n",
    "        run_lengths[-1] += 1\n",
    "        prev = b\n",
    "    return run_lengths\n",
    "\n",
    "def prob_to_rles(x, cutoff=0.5):\n",
    "    lab_img = label(x > cutoff)\n",
    "    for i in range(1, lab_img.max() + 1):\n",
    "        yield rle_encoding(lab_img == i)"
   ]
  },
  {
   "cell_type": "code",
   "execution_count": 15,
   "metadata": {
    "scrolled": true
   },
   "outputs": [],
   "source": [
    "new_test_ids = []\n",
    "rles = []\n",
    "for n, id_ in enumerate(test_ids):\n",
    "    rle = list(prob_to_rles(preds_test_upsampled[n]))\n",
    "    rles.extend(rle)\n",
    "    new_test_ids.extend([id_] * len(rle))"
   ]
  },
  {
   "cell_type": "code",
   "execution_count": 18,
   "metadata": {},
   "outputs": [],
   "source": [
    "# Create submission DataFrame\n",
    "sub = pd.DataFrame()\n",
    "sub['ImageId'] = new_test_ids\n",
    "sub['EncodedPixels'] = pd.Series(rles).apply(lambda x: ' '.join(str(y) for y in x))\n",
    "sub.to_csv('sub-tmp-1.csv', index=False)"
   ]
  },
  {
   "cell_type": "code",
   "execution_count": null,
   "metadata": {},
   "outputs": [],
   "source": []
  }
 ],
 "metadata": {
  "anaconda-cloud": {},
  "kernelspec": {
   "display_name": "Python 2",
   "language": "python",
   "name": "python2"
  },
  "language_info": {
   "codemirror_mode": {
    "name": "ipython",
    "version": 2
   },
   "file_extension": ".py",
   "mimetype": "text/x-python",
   "name": "python",
   "nbconvert_exporter": "python",
   "pygments_lexer": "ipython2",
   "version": "2.7.14"
  },
  "nav_menu": {},
  "nbpresent": {
   "slides": {
    "28b43202-5690-4169-9aca-6b9dabfeb3ec": {
     "id": "28b43202-5690-4169-9aca-6b9dabfeb3ec",
     "prev": null,
     "regions": {
      "3bba644a-cf4d-4a49-9fbd-e2554428cf9f": {
       "attrs": {
        "height": 0.8,
        "width": 0.8,
        "x": 0.1,
        "y": 0.1
       },
       "content": {
        "cell": "f3d3a388-7e2a-4151-9b50-c20498fceacc",
        "part": "whole"
       },
       "id": "3bba644a-cf4d-4a49-9fbd-e2554428cf9f"
      }
     }
    },
    "8104def2-4b68-44a0-8f1b-b03bf3b2a079": {
     "id": "8104def2-4b68-44a0-8f1b-b03bf3b2a079",
     "prev": "28b43202-5690-4169-9aca-6b9dabfeb3ec",
     "regions": {
      "7dded777-1ddf-4100-99ae-25cf1c15b575": {
       "attrs": {
        "height": 0.8,
        "width": 0.8,
        "x": 0.1,
        "y": 0.1
       },
       "content": {
        "cell": "fe47bd48-3414-4657-92e7-8b8d6cb0df00",
        "part": "whole"
       },
       "id": "7dded777-1ddf-4100-99ae-25cf1c15b575"
      }
     }
    }
   },
   "themes": {}
  },
  "toc": {
   "navigate_menu": true,
   "number_sections": true,
   "sideBar": true,
   "threshold": 6,
   "toc_cell": false,
   "toc_section_display": "block",
   "toc_window_display": false
  }
 },
 "nbformat": 4,
 "nbformat_minor": 1
}
