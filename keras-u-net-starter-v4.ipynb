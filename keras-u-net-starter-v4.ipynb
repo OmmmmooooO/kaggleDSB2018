{
 "cells": [
  {
   "cell_type": "code",
   "execution_count": 1,
   "metadata": {},
   "outputs": [
    {
     "name": "stderr",
     "output_type": "stream",
     "text": [
      "/usr/local/lib/python2.7/dist-packages/h5py/__init__.py:34: FutureWarning: Conversion of the second argument of issubdtype from `float` to `np.floating` is deprecated. In future, it will be treated as `np.float64 == np.dtype(float).type`.\n",
      "  from ._conv import register_converters as _register_converters\n",
      "Using TensorFlow backend.\n"
     ]
    },
    {
     "name": "stdout",
     "output_type": "stream",
     "text": [
      "2.7579927\n",
      "3.7836285\n"
     ]
    }
   ],
   "source": [
    "import os\n",
    "os.environ['PYTHONHASHSEED'] = '0'\n",
    "\n",
    "import tensorflow as tf\n",
    "import numpy as np\n",
    "tf.reset_default_graph()\n",
    "\n",
    "random_seed = 42\n",
    "from numpy.random import seed\n",
    "seed(random_seed)\n",
    "from tensorflow import set_random_seed\n",
    "set_random_seed(random_seed)\n",
    "import random\n",
    "random.seed(random_seed)\n",
    "#print(random.getstate())\n",
    "\n",
    "from keras import backend as K\n",
    "\n",
    "with tf.device('/gpu:0'):\n",
    "    c = tf.random_uniform([], -10, 10)\n",
    "    d = tf.random_uniform([], -10, 10)\n",
    "\n",
    "with tf.Session(config=tf.ConfigProto(log_device_placement=True)) as sess:\n",
    "    print(sess.run(c))\n",
    "    print(sess.run(d))\n",
    "    \n",
    "    \n",
    "session_conf = tf.ConfigProto(intra_op_parallelism_threads=1, inter_op_parallelism_threads=1)   \n",
    "sess = tf.Session(graph=tf.get_default_graph(), config=session_conf)    \n",
    "\n",
    "K.set_session(sess)    \n",
    "#print(sess)\n",
    "#config = tf.ConfigProto(\n",
    "#        device_count = {'GPU': 0}\n",
    "#    )\n",
    "#sess = tf.Session(config=config)\n",
    "# https://machinelearningmastery.com/reproducible-results-neural-networks-keras/\n",
    "# https://stackoverflow.com/questions/45230448/how-to-get-reproducible-result-when-running-keras-with-tensorflow-backend\n",
    "# https://stackoverflow.com/questions/46836857/results-not-reproducible-with-keras-and-tensorflow-in-python"
   ]
  },
  {
   "cell_type": "code",
   "execution_count": 2,
   "metadata": {},
   "outputs": [
    {
     "name": "stdout",
     "output_type": "stream",
     "text": [
      "2.1.3\n"
     ]
    }
   ],
   "source": [
    "import os\n",
    "import sys\n",
    "import warnings\n",
    "\n",
    "import pandas as pd\n",
    "\n",
    "import matplotlib.pyplot as plt\n",
    "\n",
    "from tqdm import tqdm\n",
    "from itertools import chain\n",
    "from skimage.io import imread, imshow, imread_collection, concatenate_images\n",
    "from skimage.transform import resize\n",
    "from skimage.morphology import label\n",
    "\n",
    "from keras.models import Model, load_model\n",
    "from keras.layers import Input\n",
    "from keras.layers.core import Lambda\n",
    "from keras.layers.convolutional import Conv2D, Conv2DTranspose\n",
    "from keras.layers.pooling import MaxPooling2D\n",
    "from keras.layers.merge import concatenate\n",
    "from keras.callbacks import EarlyStopping, ModelCheckpoint\n",
    "from keras.optimizers import SGD, RMSprop, Adam\n",
    "\n",
    "import keras\n",
    "print(keras.__version__)"
   ]
  },
  {
   "cell_type": "code",
   "execution_count": 3,
   "metadata": {},
   "outputs": [],
   "source": [
    "# Set some parameters\n",
    "IMG_WIDTH = 256\n",
    "IMG_HEIGHT = 256\n",
    "IMG_CHANNELS = 3\n",
    "TRAIN_PATH = 'data/stage1_train/'\n",
    "TEST_PATH = 'data/stage1_test/'\n",
    "DATA_PATH = 'data/'\n",
    "\n",
    "warnings.filterwarnings('ignore', category=UserWarning, module='skimage')"
   ]
  },
  {
   "cell_type": "code",
   "execution_count": 5,
   "metadata": {},
   "outputs": [
    {
     "name": "stdout",
     "output_type": "stream",
     "text": [
      "670\n",
      "65\n"
     ]
    }
   ],
   "source": [
    "# Get train and test IDs\n",
    "train_ids = next(os.walk(TRAIN_PATH))[1]\n",
    "test_ids = next(os.walk(TEST_PATH))[1]\n",
    "print(len(train_ids))\n",
    "print(len(test_ids))"
   ]
  },
  {
   "cell_type": "code",
   "execution_count": 6,
   "metadata": {},
   "outputs": [
    {
     "name": "stdout",
     "output_type": "stream",
     "text": [
      "/home/chen/workspace/git_examples/kaggle-nuclei-challenge\n"
     ]
    }
   ],
   "source": [
    "current_dir = os.getcwd()\n",
    "print(current_dir)"
   ]
  },
  {
   "cell_type": "code",
   "execution_count": 7,
   "metadata": {},
   "outputs": [],
   "source": [
    "import bcolz\n",
    "def save_array(fname, arr): c=bcolz.carray(arr, rootdir=fname, mode='w'); c.flush()\n",
    "def load_array(fname): return bcolz.open(fname)[:]"
   ]
  },
  {
   "cell_type": "markdown",
   "metadata": {},
   "source": [
    "def fit_model():\n",
    "    model = get_model_bn_do()\n",
    "    model.fit_generator(batches, batches.N, nb_epoch=1, verbose=0,\n",
    "                        validation_data=test_batches, nb_val_samples=test_batches.N)\n",
    "    model.optimizer.lr=0.1\n",
    "    model.fit_generator(batches, batches.N, nb_epoch=4, verbose=0,\n",
    "                        validation_data=test_batches, nb_val_samples=test_batches.N)\n",
    "    model.optimizer.lr=0.01\n",
    "    model.fit_generator(batches, batches.N, nb_epoch=12, verbose=0,\n",
    "                        validation_data=test_batches, nb_val_samples=test_batches.N)\n",
    "    model.optimizer.lr=0.001\n",
    "    model.fit_generator(batches, batches.N, nb_epoch=18, verbose=0,\n",
    "                        validation_data=test_batches, nb_val_samples=test_batches.N)\n",
    "    return model"
   ]
  },
  {
   "cell_type": "code",
   "execution_count": 8,
   "metadata": {},
   "outputs": [
    {
     "name": "stdout",
     "output_type": "stream",
     "text": [
      "Getting and resizing train images and masks ... \n"
     ]
    },
    {
     "name": "stderr",
     "output_type": "stream",
     "text": [
      "100%|██████████| 670/670 [01:22<00:00,  8.12it/s]"
     ]
    },
    {
     "name": "stdout",
     "output_type": "stream",
     "text": [
      "Getting and resizing test images ... \n"
     ]
    },
    {
     "name": "stderr",
     "output_type": "stream",
     "text": [
      "\n",
      "100%|██████████| 65/65 [00:00<00:00, 96.68it/s] \n"
     ]
    },
    {
     "name": "stdout",
     "output_type": "stream",
     "text": [
      "Done!\n"
     ]
    }
   ],
   "source": [
    "# Get and resize train images and masks\n",
    "X_train = np.zeros((len(train_ids), IMG_HEIGHT, IMG_WIDTH, IMG_CHANNELS), dtype=np.uint8)\n",
    "Y_train = np.zeros((len(train_ids), IMG_HEIGHT, IMG_WIDTH, 1), dtype=np.bool)\n",
    "print('Getting and resizing train images and masks ... ')\n",
    "sys.stdout.flush()\n",
    "\n",
    "filenames = []\n",
    "for n, id_ in tqdm(enumerate(train_ids), total=len(train_ids)):\n",
    "    path = TRAIN_PATH + id_\n",
    "    img = imread(path + '/images/' + id_ + '.png')[:,:,:IMG_CHANNELS]\n",
    "    filenames.append(path + '/images/' + id_ + '.png')\n",
    "    img = resize(img, (IMG_HEIGHT, IMG_WIDTH), mode='constant', preserve_range=True)\n",
    "    X_train[n] = img\n",
    "    mask = np.zeros((IMG_HEIGHT, IMG_WIDTH, 1), dtype=np.bool)\n",
    "    for mask_file in next(os.walk(path + '/masks/'))[2]:\n",
    "        mask_ = imread(path + '/masks/' + mask_file)\n",
    "        mask_ = np.expand_dims(resize(mask_, (IMG_HEIGHT, IMG_WIDTH), mode='constant', \n",
    "                                      preserve_range=True), axis=-1)\n",
    "        mask = np.maximum(mask, mask_)\n",
    "    Y_train[n] = mask\n",
    "\n",
    "# Get and resize test images\n",
    "X_test = np.zeros((len(test_ids), IMG_HEIGHT, IMG_WIDTH, IMG_CHANNELS), dtype=np.uint8)\n",
    "sizes_test = []\n",
    "print('Getting and resizing test images ... ')\n",
    "sys.stdout.flush()\n",
    "for n, id_ in tqdm(enumerate(test_ids), total=len(test_ids)):\n",
    "    path = TEST_PATH + id_\n",
    "    img = imread(path + '/images/' + id_ + '.png')[:,:,:IMG_CHANNELS]\n",
    "    sizes_test.append([img.shape[0], img.shape[1]])\n",
    "    img = resize(img, (IMG_HEIGHT, IMG_WIDTH), mode='constant', preserve_range=True)\n",
    "    X_test[n] = img\n",
    "\n",
    "save_array(DATA_PATH + 'X_train_256.bc', X_train)\n",
    "save_array(DATA_PATH + 'Y_train_256.bc', Y_train)\n",
    "save_array(DATA_PATH + 'X_test_256.bc', X_test)\n",
    "save_array(DATA_PATH + 'filenames_256.bc', filenames)\n",
    "\n",
    "print('Done!')"
   ]
  },
  {
   "cell_type": "code",
   "execution_count": 9,
   "metadata": {},
   "outputs": [],
   "source": [
    "X_train = load_array(DATA_PATH + 'X_train_256.bc')\n",
    "Y_train = load_array(DATA_PATH + 'Y_train_256.bc')\n",
    "X_test = load_array(DATA_PATH + 'X_test_256.bc')\n",
    "filenames = load_array(DATA_PATH + 'filenames_256.bc')"
   ]
  },
  {
   "cell_type": "code",
   "execution_count": 10,
   "metadata": {},
   "outputs": [
    {
     "data": {
      "text/plain": [
       "Counter({(256, 256): 334,\n",
       "         (320, 256): 112,\n",
       "         (347, 260): 5,\n",
       "         (360, 360): 91,\n",
       "         (640, 512): 13,\n",
       "         (696, 520): 92,\n",
       "         (1024, 1024): 16,\n",
       "         (1272, 603): 6,\n",
       "         (1388, 1040): 1})"
      ]
     },
     "execution_count": 10,
     "metadata": {},
     "output_type": "execute_result"
    }
   ],
   "source": [
    "import PIL\n",
    "import collections\n",
    "sizes = [PIL.Image.open(f).size for f in filenames]\n",
    "collections.Counter(sizes)\n",
    "collections.Counter(sizes_test)"
   ]
  },
  {
   "cell_type": "code",
   "execution_count": 11,
   "metadata": {},
   "outputs": [
    {
     "name": "stderr",
     "output_type": "stream",
     "text": [
      "/usr/local/lib/python2.7/dist-packages/skimage/io/_plugins/matplotlib_plugin.py:51: FutureWarning: Conversion of the second argument of issubdtype from `float` to `np.floating` is deprecated. In future, it will be treated as `np.float64 == np.dtype(float).type`.\n",
      "  out_of_range_float = (np.issubdtype(image.dtype, np.float) and\n"
     ]
    },
    {
     "name": "stdout",
     "output_type": "stream",
     "text": [
      "102\n"
     ]
    },
    {
     "data": {
      "image/png": "[encoded data removed]",
      "text/plain": [
       "<matplotlib.figure.Figure at 0x7fd42d95a1d0>"
      ]
     },
     "metadata": {},
     "output_type": "display_data"
    },
    {
     "data": {
      "image/png": "[encoded data removed]",
      "text/plain": [
       "<matplotlib.figure.Figure at 0x7fd47fcef790>"
      ]
     },
     "metadata": {},
     "output_type": "display_data"
    }
   ],
   "source": [
    "# Check if training data looks all right\n",
    "ix = np.random.randint(0, len(train_ids))\n",
    "print(ix)\n",
    "imshow(X_train[ix])\n",
    "plt.show()\n",
    "imshow(np.squeeze(Y_train[ix]))\n",
    "plt.show()"
   ]
  },
  {
   "cell_type": "code",
   "execution_count": 12,
   "metadata": {},
   "outputs": [],
   "source": [
    "# Define IoU metric\n",
    "def mean_iou(y_true, y_pred):\n",
    "    prec = []\n",
    "    for t in np.arange(0.5, 1.0, 0.05):\n",
    "        y_pred_ = tf.to_int32(y_pred > t)\n",
    "        score, up_opt = tf.metrics.mean_iou(y_true, y_pred_, 2)\n",
    "        K.get_session().run(tf.local_variables_initializer())\n",
    "        with tf.control_dependencies([up_opt]):\n",
    "            score = tf.identity(score)\n",
    "        prec.append(score)\n",
    "    return K.mean(K.stack(prec), axis=0)"
   ]
  },
  {
   "cell_type": "code",
   "execution_count": 13,
   "metadata": {},
   "outputs": [],
   "source": [
    "# Build U-Net model\n",
    "inputs = Input((IMG_HEIGHT, IMG_WIDTH, IMG_CHANNELS))\n",
    "s = Lambda(lambda x: x / 255) (inputs)\n",
    "\n",
    "c1 = Conv2D(16, (3, 3), activation='relu', padding='same') (s)\n",
    "c1 = Conv2D(16, (3, 3), activation='relu', padding='same') (c1)\n",
    "p1 = MaxPooling2D((2, 2)) (c1)\n",
    "\n",
    "c2 = Conv2D(32, (3, 3), activation='relu', padding='same') (p1)\n",
    "c2 = Conv2D(32, (3, 3), activation='relu', padding='same') (c2)\n",
    "p2 = MaxPooling2D((2, 2)) (c2)\n",
    "\n",
    "c3 = Conv2D(64, (3, 3), activation='relu', padding='same') (p2)\n",
    "c3 = Conv2D(64, (3, 3), activation='relu', padding='same') (c3)\n",
    "p3 = MaxPooling2D((2, 2)) (c3)\n",
    "\n",
    "c4 = Conv2D(128, (3, 3), activation='relu', padding='same') (p3)\n",
    "c4 = Conv2D(128, (3, 3), activation='relu', padding='same') (c4)\n",
    "p4 = MaxPooling2D(pool_size=(2, 2)) (c4)\n",
    "\n",
    "c5 = Conv2D(256, (3, 3), activation='relu', padding='same') (p4)\n",
    "c5 = Conv2D(256, (3, 3), activation='relu', padding='same') (c5)\n",
    "\n",
    "u6 = Conv2DTranspose(128, (2, 2), strides=(2, 2), padding='same') (c5)\n",
    "u6 = concatenate([u6, c4])\n",
    "c6 = Conv2D(128, (3, 3), activation='relu', padding='same') (u6)\n",
    "c6 = Conv2D(128, (3, 3), activation='relu', padding='same') (c6)\n",
    "\n",
    "u7 = Conv2DTranspose(64, (2, 2), strides=(2, 2), padding='same') (c6)\n",
    "u7 = concatenate([u7, c3])\n",
    "c7 = Conv2D(64, (3, 3), activation='relu', padding='same') (u7)\n",
    "c7 = Conv2D(64, (3, 3), activation='relu', padding='same') (c7)\n",
    "\n",
    "u8 = Conv2DTranspose(32, (2, 2), strides=(2, 2), padding='same') (c7)\n",
    "u8 = concatenate([u8, c2])\n",
    "c8 = Conv2D(32, (3, 3), activation='relu', padding='same') (u8)\n",
    "c8 = Conv2D(32, (3, 3), activation='relu', padding='same') (c8)\n",
    "\n",
    "u9 = Conv2DTranspose(16, (2, 2), strides=(2, 2), padding='same') (c8)\n",
    "u9 = concatenate([u9, c1], axis=3)\n",
    "c9 = Conv2D(16, (3, 3), activation='relu', padding='same') (u9)\n",
    "c9 = Conv2D(16, (3, 3), activation='relu', padding='same') (c9)\n",
    "\n",
    "outputs = Conv2D(1, (1, 1), activation='sigmoid') (c9)\n",
    "\n",
    "model = Model(inputs=[inputs], outputs=[outputs])\n",
    "model.compile(optimizer='adam', loss='binary_crossentropy', metrics=[mean_iou])\n",
    "#model.summary()"
   ]
  },
  {
   "cell_type": "code",
   "execution_count": 14,
   "metadata": {},
   "outputs": [
    {
     "name": "stdout",
     "output_type": "stream",
     "text": [
      "Train on 603 samples, validate on 67 samples\n",
      "Epoch 1/100\n",
      "600/603 [============================>.] - ETA: 0s - loss: 0.4321 - mean_iou: 0.4164\n",
      "Epoch 00001: val_loss improved from inf to 0.30474, saving model to model-tmp-v4.h5\n",
      "603/603 [==============================] - 8s 14ms/step - loss: 0.4316 - mean_iou: 0.4165 - val_loss: 0.3047 - val_mean_iou: 0.4245\n",
      "Epoch 2/100\n",
      "600/603 [============================>.] - ETA: 0s - loss: 0.2336 - mean_iou: 0.4402\n",
      "Epoch 00002: val_loss improved from 0.30474 to 0.22068, saving model to model-tmp-v4.h5\n",
      "603/603 [==============================] - 6s 10ms/step - loss: 0.2329 - mean_iou: 0.4404 - val_loss: 0.2207 - val_mean_iou: 0.4822\n",
      "Epoch 3/100\n",
      "600/603 [============================>.] - ETA: 0s - loss: 0.1652 - mean_iou: 0.5146\n",
      "Epoch 00003: val_loss improved from 0.22068 to 0.15799, saving model to model-tmp-v4.h5\n",
      "603/603 [==============================] - 7s 11ms/step - loss: 0.1651 - mean_iou: 0.5148 - val_loss: 0.1580 - val_mean_iou: 0.5514\n",
      "Epoch 4/100\n",
      "600/603 [============================>.] - ETA: 0s - loss: 0.1166 - mean_iou: 0.5834\n",
      "Epoch 00004: val_loss improved from 0.15799 to 0.13586, saving model to model-tmp-v4.h5\n",
      "603/603 [==============================] - 7s 11ms/step - loss: 0.1171 - mean_iou: 0.5835 - val_loss: 0.1359 - val_mean_iou: 0.6094\n",
      "Epoch 5/100\n",
      "600/603 [============================>.] - ETA: 0s - loss: 0.1021 - mean_iou: 0.6278\n",
      "Epoch 00005: val_loss did not improve\n",
      "603/603 [==============================] - 6s 11ms/step - loss: 0.1023 - mean_iou: 0.6279 - val_loss: 0.1444 - val_mean_iou: 0.6460\n",
      "Epoch 6/100\n",
      "600/603 [============================>.] - ETA: 0s - loss: 0.0882 - mean_iou: 0.6601\n",
      "Epoch 00006: val_loss improved from 0.13586 to 0.10718, saving model to model-tmp-v4.h5\n",
      "603/603 [==============================] - 6s 10ms/step - loss: 0.0881 - mean_iou: 0.6602 - val_loss: 0.1072 - val_mean_iou: 0.6749\n",
      "Epoch 7/100\n",
      "600/603 [============================>.] - ETA: 0s - loss: 0.0852 - mean_iou: 0.6867\n",
      "Epoch 00007: val_loss did not improve\n",
      "603/603 [==============================] - 6s 10ms/step - loss: 0.0849 - mean_iou: 0.6868 - val_loss: 0.1129 - val_mean_iou: 0.6975\n",
      "Epoch 8/100\n",
      "600/603 [============================>.] - ETA: 0s - loss: 0.0837 - mean_iou: 0.7064\n",
      "Epoch 00008: val_loss improved from 0.10718 to 0.10044, saving model to model-tmp-v4.h5\n",
      "603/603 [==============================] - 6s 10ms/step - loss: 0.0837 - mean_iou: 0.7065 - val_loss: 0.1004 - val_mean_iou: 0.7145\n",
      "Epoch 9/100\n",
      "600/603 [============================>.] - ETA: 0s - loss: 0.0772 - mean_iou: 0.7218\n",
      "Epoch 00009: val_loss improved from 0.10044 to 0.09710, saving model to model-tmp-v4.h5\n",
      "603/603 [==============================] - 6s 11ms/step - loss: 0.0770 - mean_iou: 0.7218 - val_loss: 0.0971 - val_mean_iou: 0.7289\n",
      "Epoch 10/100\n",
      "600/603 [============================>.] - ETA: 0s - loss: 0.0774 - mean_iou: 0.7350\n",
      "Epoch 00010: val_loss improved from 0.09710 to 0.09369, saving model to model-tmp-v4.h5\n",
      "603/603 [==============================] - 7s 11ms/step - loss: 0.0773 - mean_iou: 0.7350 - val_loss: 0.0937 - val_mean_iou: 0.7408\n",
      "Epoch 11/100\n",
      "600/603 [============================>.] - ETA: 0s - loss: 0.0733 - mean_iou: 0.7462\n",
      "Epoch 00011: val_loss did not improve\n",
      "603/603 [==============================] - 6s 11ms/step - loss: 0.0734 - mean_iou: 0.7462 - val_loss: 0.0941 - val_mean_iou: 0.7510\n",
      "Epoch 12/100\n",
      "600/603 [============================>.] - ETA: 0s - loss: 0.0725 - mean_iou: 0.7553\n",
      "Epoch 00012: val_loss did not improve\n",
      "603/603 [==============================] - 7s 11ms/step - loss: 0.0723 - mean_iou: 0.7554 - val_loss: 0.0958 - val_mean_iou: 0.7596\n",
      "Epoch 13/100\n",
      "600/603 [============================>.] - ETA: 0s - loss: 0.0736 - mean_iou: 0.7633\n",
      "Epoch 00013: val_loss did not improve\n",
      "603/603 [==============================] - 7s 11ms/step - loss: 0.0734 - mean_iou: 0.7633 - val_loss: 0.0946 - val_mean_iou: 0.7668\n",
      "Epoch 14/100\n",
      "600/603 [============================>.] - ETA: 0s - loss: 0.0736 - mean_iou: 0.7703\n",
      "Epoch 00014: val_loss did not improve\n",
      "603/603 [==============================] - 7s 11ms/step - loss: 0.0739 - mean_iou: 0.7703 - val_loss: 0.0946 - val_mean_iou: 0.7733\n",
      "Epoch 15/100\n",
      "600/603 [============================>.] - ETA: 0s - loss: 0.0700 - mean_iou: 0.7763\n",
      "Epoch 00015: val_loss did not improve\n",
      "603/603 [==============================] - 7s 11ms/step - loss: 0.0702 - mean_iou: 0.7763 - val_loss: 0.0966 - val_mean_iou: 0.7791\n",
      "Epoch 16/100\n",
      "600/603 [============================>.] - ETA: 0s - loss: 0.0695 - mean_iou: 0.7817\n",
      "Epoch 00016: val_loss improved from 0.09369 to 0.08732, saving model to model-tmp-v4.h5\n",
      "603/603 [==============================] - 7s 12ms/step - loss: 0.0693 - mean_iou: 0.7817 - val_loss: 0.0873 - val_mean_iou: 0.7842\n",
      "Epoch 17/100\n",
      "600/603 [============================>.] - ETA: 0s - loss: 0.0668 - mean_iou: 0.7864\n",
      "Epoch 00017: val_loss improved from 0.08732 to 0.08695, saving model to model-tmp-v4.h5\n",
      "603/603 [==============================] - 7s 12ms/step - loss: 0.0668 - mean_iou: 0.7864 - val_loss: 0.0870 - val_mean_iou: 0.7889\n",
      "Epoch 18/100\n",
      "600/603 [============================>.] - ETA: 0s - loss: 0.0681 - mean_iou: 0.7911\n",
      "Epoch 00018: val_loss did not improve\n",
      "603/603 [==============================] - 7s 12ms/step - loss: 0.0681 - mean_iou: 0.7911 - val_loss: 0.0950 - val_mean_iou: 0.7930\n",
      "Epoch 19/100\n",
      "600/603 [============================>.] - ETA: 0s - loss: 0.0675 - mean_iou: 0.7946\n",
      "Epoch 00019: val_loss improved from 0.08695 to 0.08454, saving model to model-tmp-v4.h5\n",
      "603/603 [==============================] - 7s 12ms/step - loss: 0.0675 - mean_iou: 0.7946 - val_loss: 0.0845 - val_mean_iou: 0.7966\n",
      "Epoch 20/100\n",
      "600/603 [============================>.] - ETA: 0s - loss: 0.0678 - mean_iou: 0.7982\n",
      "Epoch 00020: val_loss did not improve\n",
      "603/603 [==============================] - 7s 11ms/step - loss: 0.0677 - mean_iou: 0.7982 - val_loss: 0.0879 - val_mean_iou: 0.8000\n",
      "Epoch 21/100\n",
      "600/603 [============================>.] - ETA: 0s - loss: 0.0659 - mean_iou: 0.8017\n",
      "Epoch 00021: val_loss improved from 0.08454 to 0.08437, saving model to model-tmp-v4.h5\n",
      "603/603 [==============================] - 7s 11ms/step - loss: 0.0659 - mean_iou: 0.8017 - val_loss: 0.0844 - val_mean_iou: 0.8034\n",
      "Epoch 22/100\n",
      "600/603 [============================>.] - ETA: 0s - loss: 0.0669 - mean_iou: 0.8049\n",
      "Epoch 00022: val_loss did not improve\n",
      "603/603 [==============================] - 7s 11ms/step - loss: 0.0668 - mean_iou: 0.8049 - val_loss: 0.0888 - val_mean_iou: 0.8063\n",
      "Epoch 23/100\n",
      "600/603 [============================>.] - ETA: 0s - loss: 0.0665 - mean_iou: 0.8075\n",
      "Epoch 00023: val_loss did not improve\n",
      "603/603 [==============================] - 7s 12ms/step - loss: 0.0665 - mean_iou: 0.8075 - val_loss: 0.0853 - val_mean_iou: 0.8089\n",
      "Epoch 24/100\n",
      "600/603 [============================>.] - ETA: 0s - loss: 0.0663 - mean_iou: 0.8101\n",
      "Epoch 00024: val_loss did not improve\n",
      "603/603 [==============================] - 6s 10ms/step - loss: 0.0662 - mean_iou: 0.8102 - val_loss: 0.0860 - val_mean_iou: 0.8113\n",
      "Epoch 25/100\n",
      "600/603 [============================>.] - ETA: 0s - loss: 0.0674 - mean_iou: 0.8123\n",
      "Epoch 00025: val_loss did not improve\n",
      "603/603 [==============================] - 6s 10ms/step - loss: 0.0672 - mean_iou: 0.8123 - val_loss: 0.0857 - val_mean_iou: 0.8134\n",
      "Epoch 26/100\n",
      "600/603 [============================>.] - ETA: 0s - loss: 0.0657 - mean_iou: 0.8145\n",
      "Epoch 00026: val_loss did not improve\n",
      "603/603 [==============================] - 6s 10ms/step - loss: 0.0657 - mean_iou: 0.8145 - val_loss: 0.0919 - val_mean_iou: 0.8155\n",
      "Epoch 27/100\n",
      "600/603 [============================>.] - ETA: 0s - loss: 0.0655 - mean_iou: 0.8163\n",
      "Epoch 00027: val_loss improved from 0.08437 to 0.08083, saving model to model-tmp-v4.h5\n",
      "603/603 [==============================] - 6s 10ms/step - loss: 0.0657 - mean_iou: 0.8163 - val_loss: 0.0808 - val_mean_iou: 0.8174\n",
      "Epoch 28/100\n",
      "600/603 [============================>.] - ETA: 0s - loss: 0.0650 - mean_iou: 0.8183\n",
      "Epoch 00028: val_loss did not improve\n",
      "603/603 [==============================] - 6s 10ms/step - loss: 0.0655 - mean_iou: 0.8183 - val_loss: 0.0939 - val_mean_iou: 0.8192\n",
      "Epoch 29/100\n"
     ]
    },
    {
     "name": "stdout",
     "output_type": "stream",
     "text": [
      "600/603 [============================>.] - ETA: 0s - loss: 0.0641 - mean_iou: 0.8201\n",
      "Epoch 00029: val_loss did not improve\n",
      "603/603 [==============================] - 6s 11ms/step - loss: 0.0641 - mean_iou: 0.8201 - val_loss: 0.0832 - val_mean_iou: 0.8210\n",
      "Epoch 30/100\n",
      "600/603 [============================>.] - ETA: 0s - loss: 0.0632 - mean_iou: 0.8218\n",
      "Epoch 00030: val_loss did not improve\n",
      "603/603 [==============================] - 7s 11ms/step - loss: 0.0631 - mean_iou: 0.8218 - val_loss: 0.0843 - val_mean_iou: 0.8226\n",
      "Epoch 31/100\n",
      "600/603 [============================>.] - ETA: 0s - loss: 0.0629 - mean_iou: 0.8233\n",
      "Epoch 00031: val_loss did not improve\n",
      "603/603 [==============================] - 7s 12ms/step - loss: 0.0627 - mean_iou: 0.8233 - val_loss: 0.0818 - val_mean_iou: 0.8242\n",
      "Epoch 32/100\n",
      "600/603 [============================>.] - ETA: 0s - loss: 0.0619 - mean_iou: 0.8249\n",
      "Epoch 00032: val_loss did not improve\n",
      "603/603 [==============================] - 7s 12ms/step - loss: 0.0617 - mean_iou: 0.8249 - val_loss: 0.0828 - val_mean_iou: 0.8257\n",
      "Epoch 33/100\n",
      "600/603 [============================>.] - ETA: 0s - loss: 0.0602 - mean_iou: 0.8265\n",
      "Epoch 00033: val_loss did not improve\n",
      "603/603 [==============================] - 7s 11ms/step - loss: 0.0605 - mean_iou: 0.8265 - val_loss: 0.0860 - val_mean_iou: 0.8273\n",
      "Epoch 34/100\n",
      "600/603 [============================>.] - ETA: 0s - loss: 0.0596 - mean_iou: 0.8280\n",
      "Epoch 00034: val_loss did not improve\n",
      "603/603 [==============================] - 6s 11ms/step - loss: 0.0598 - mean_iou: 0.8280 - val_loss: 0.0847 - val_mean_iou: 0.8288\n",
      "Epoch 35/100\n",
      "600/603 [============================>.] - ETA: 0s - loss: 0.0657 - mean_iou: 0.8293\n",
      "Epoch 00035: val_loss improved from 0.08083 to 0.08019, saving model to model-tmp-v4.h5\n",
      "603/603 [==============================] - 7s 12ms/step - loss: 0.0657 - mean_iou: 0.8293 - val_loss: 0.0802 - val_mean_iou: 0.8299\n",
      "Epoch 36/100\n",
      "600/603 [============================>.] - ETA: 0s - loss: 0.0606 - mean_iou: 0.8304\n",
      "Epoch 00036: val_loss did not improve\n",
      "603/603 [==============================] - 6s 11ms/step - loss: 0.0610 - mean_iou: 0.8305 - val_loss: 0.0815 - val_mean_iou: 0.8312\n",
      "Epoch 37/100\n",
      "600/603 [============================>.] - ETA: 0s - loss: 0.0612 - mean_iou: 0.8316\n",
      "Epoch 00037: val_loss did not improve\n",
      "603/603 [==============================] - 7s 11ms/step - loss: 0.0611 - mean_iou: 0.8317 - val_loss: 0.0892 - val_mean_iou: 0.8323\n",
      "Epoch 38/100\n",
      "600/603 [============================>.] - ETA: 0s - loss: 0.0626 - mean_iou: 0.8328\n",
      "Epoch 00038: val_loss did not improve\n",
      "603/603 [==============================] - 6s 11ms/step - loss: 0.0625 - mean_iou: 0.8328 - val_loss: 0.0917 - val_mean_iou: 0.8333\n",
      "Epoch 39/100\n",
      "600/603 [============================>.] - ETA: 0s - loss: 0.0637 - mean_iou: 0.8337\n",
      "Epoch 00039: val_loss did not improve\n",
      "603/603 [==============================] - 6s 11ms/step - loss: 0.0636 - mean_iou: 0.8337 - val_loss: 0.0804 - val_mean_iou: 0.8343\n",
      "Epoch 40/100\n",
      "600/603 [============================>.] - ETA: 0s - loss: 0.0614 - mean_iou: 0.8348\n",
      "Epoch 00040: val_loss did not improve\n",
      "603/603 [==============================] - 6s 10ms/step - loss: 0.0613 - mean_iou: 0.8348 - val_loss: 0.0813 - val_mean_iou: 0.8353\n",
      "Epoch 41/100\n",
      "600/603 [============================>.] - ETA: 0s - loss: 0.0601 - mean_iou: 0.8358\n",
      "Epoch 00041: val_loss did not improve\n",
      "603/603 [==============================] - 6s 10ms/step - loss: 0.0601 - mean_iou: 0.8358 - val_loss: 0.0834 - val_mean_iou: 0.8363\n",
      "Epoch 42/100\n",
      "600/603 [============================>.] - ETA: 0s - loss: 0.0599 - mean_iou: 0.8367\n",
      "Epoch 00042: val_loss did not improve\n",
      "603/603 [==============================] - 6s 10ms/step - loss: 0.0597 - mean_iou: 0.8367 - val_loss: 0.0823 - val_mean_iou: 0.8372\n",
      "Epoch 43/100\n",
      "600/603 [============================>.] - ETA: 0s - loss: 0.0577 - mean_iou: 0.8377\n",
      "Epoch 00043: val_loss did not improve\n",
      "603/603 [==============================] - 6s 10ms/step - loss: 0.0580 - mean_iou: 0.8377 - val_loss: 0.0911 - val_mean_iou: 0.8382\n",
      "Epoch 44/100\n",
      "600/603 [============================>.] - ETA: 0s - loss: 0.0585 - mean_iou: 0.8387\n",
      "Epoch 00044: val_loss did not improve\n",
      "603/603 [==============================] - 6s 10ms/step - loss: 0.0586 - mean_iou: 0.8387 - val_loss: 0.0805 - val_mean_iou: 0.8392\n",
      "Epoch 45/100\n",
      "600/603 [============================>.] - ETA: 0s - loss: 0.0581 - mean_iou: 0.8396\n",
      "Epoch 00045: val_loss did not improve\n",
      "603/603 [==============================] - 6s 10ms/step - loss: 0.0581 - mean_iou: 0.8396 - val_loss: 0.0866 - val_mean_iou: 0.8400\n",
      "Epoch 46/100\n",
      "600/603 [============================>.] - ETA: 0s - loss: 0.0595 - mean_iou: 0.8404\n",
      "Epoch 00046: val_loss improved from 0.08019 to 0.07958, saving model to model-tmp-v4.h5\n",
      "603/603 [==============================] - 7s 11ms/step - loss: 0.0595 - mean_iou: 0.8404 - val_loss: 0.0796 - val_mean_iou: 0.8408\n",
      "Epoch 47/100\n",
      "600/603 [============================>.] - ETA: 0s - loss: 0.0574 - mean_iou: 0.8413\n",
      "Epoch 00047: val_loss did not improve\n",
      "603/603 [==============================] - 6s 11ms/step - loss: 0.0572 - mean_iou: 0.8413 - val_loss: 0.0887 - val_mean_iou: 0.8417\n",
      "Epoch 48/100\n",
      "600/603 [============================>.] - ETA: 0s - loss: 0.0560 - mean_iou: 0.8420\n",
      "Epoch 00048: val_loss did not improve\n",
      "603/603 [==============================] - 6s 11ms/step - loss: 0.0560 - mean_iou: 0.8420 - val_loss: 0.0844 - val_mean_iou: 0.8425\n",
      "Epoch 49/100\n",
      "600/603 [============================>.] - ETA: 0s - loss: 0.0536 - mean_iou: 0.8430\n",
      "Epoch 00049: val_loss improved from 0.07958 to 0.07914, saving model to model-tmp-v4.h5\n",
      "603/603 [==============================] - 7s 12ms/step - loss: 0.0537 - mean_iou: 0.8430 - val_loss: 0.0791 - val_mean_iou: 0.8434\n",
      "Epoch 50/100\n",
      "600/603 [============================>.] - ETA: 0s - loss: 0.0520 - mean_iou: 0.8439\n",
      "Epoch 00050: val_loss did not improve\n",
      "603/603 [==============================] - 7s 11ms/step - loss: 0.0520 - mean_iou: 0.8439 - val_loss: 0.0862 - val_mean_iou: 0.8444\n",
      "Epoch 51/100\n",
      "600/603 [============================>.] - ETA: 0s - loss: 0.0511 - mean_iou: 0.8448\n",
      "Epoch 00051: val_loss did not improve\n",
      "603/603 [==============================] - 7s 12ms/step - loss: 0.0512 - mean_iou: 0.8448 - val_loss: 0.0822 - val_mean_iou: 0.8452\n",
      "Epoch 52/100\n",
      "600/603 [============================>.] - ETA: 0s - loss: 0.0507 - mean_iou: 0.8457\n",
      "Epoch 00052: val_loss did not improve\n",
      "603/603 [==============================] - 7s 12ms/step - loss: 0.0506 - mean_iou: 0.8457 - val_loss: 0.0868 - val_mean_iou: 0.8462\n",
      "Epoch 53/100\n",
      "600/603 [============================>.] - ETA: 0s - loss: 0.0492 - mean_iou: 0.8466\n",
      "Epoch 00053: val_loss did not improve\n",
      "603/603 [==============================] - 7s 12ms/step - loss: 0.0493 - mean_iou: 0.8466 - val_loss: 0.0822 - val_mean_iou: 0.8471\n",
      "Epoch 54/100\n",
      "600/603 [============================>.] - ETA: 0s - loss: 0.0488 - mean_iou: 0.8475\n",
      "Epoch 00054: val_loss did not improve\n",
      "603/603 [==============================] - 6s 10ms/step - loss: 0.0487 - mean_iou: 0.8475 - val_loss: 0.0849 - val_mean_iou: 0.8480\n",
      "Epoch 55/100\n",
      "600/603 [============================>.] - ETA: 0s - loss: 0.0471 - mean_iou: 0.8485\n",
      "Epoch 00055: val_loss did not improve\n",
      "603/603 [==============================] - 7s 11ms/step - loss: 0.0473 - mean_iou: 0.8485 - val_loss: 0.0883 - val_mean_iou: 0.8489\n",
      "Epoch 56/100\n",
      "600/603 [============================>.] - ETA: 0s - loss: 0.0475 - mean_iou: 0.8493\n",
      "Epoch 00056: val_loss did not improve\n",
      "603/603 [==============================] - 7s 11ms/step - loss: 0.0478 - mean_iou: 0.8493 - val_loss: 0.0846 - val_mean_iou: 0.8498\n",
      "Epoch 57/100\n",
      "600/603 [============================>.] - ETA: 0s - loss: 0.0448 - mean_iou: 0.8503\n",
      "Epoch 00057: val_loss did not improve\n",
      "603/603 [==============================] - 6s 10ms/step - loss: 0.0448 - mean_iou: 0.8503 - val_loss: 0.0858 - val_mean_iou: 0.8508\n",
      "Epoch 58/100\n",
      "600/603 [============================>.] - ETA: 0s - loss: 0.0447 - mean_iou: 0.8512\n",
      "Epoch 00058: val_loss did not improve\n",
      "603/603 [==============================] - 7s 11ms/step - loss: 0.0447 - mean_iou: 0.8512 - val_loss: 0.0889 - val_mean_iou: 0.8516\n",
      "Epoch 59/100\n"
     ]
    },
    {
     "name": "stdout",
     "output_type": "stream",
     "text": [
      "600/603 [============================>.] - ETA: 0s - loss: 0.0442 - mean_iou: 0.8521\n",
      "Epoch 00059: val_loss did not improve\n",
      "603/603 [==============================] - 7s 11ms/step - loss: 0.0441 - mean_iou: 0.8521 - val_loss: 0.0879 - val_mean_iou: 0.8525\n",
      "Epoch 60/100\n",
      "600/603 [============================>.] - ETA: 0s - loss: 0.0417 - mean_iou: 0.8530\n",
      "Epoch 00060: val_loss did not improve\n",
      "603/603 [==============================] - 7s 12ms/step - loss: 0.0417 - mean_iou: 0.8530 - val_loss: 0.0944 - val_mean_iou: 0.8534\n",
      "Epoch 61/100\n",
      "600/603 [============================>.] - ETA: 0s - loss: 0.0411 - mean_iou: 0.8539\n",
      "Epoch 00061: val_loss did not improve\n",
      "603/603 [==============================] - 7s 11ms/step - loss: 0.0410 - mean_iou: 0.8539 - val_loss: 0.0876 - val_mean_iou: 0.8544\n",
      "Epoch 62/100\n",
      "600/603 [============================>.] - ETA: 0s - loss: 0.0435 - mean_iou: 0.8548\n",
      "Epoch 00062: val_loss did not improve\n",
      "603/603 [==============================] - 7s 11ms/step - loss: 0.0434 - mean_iou: 0.8548 - val_loss: 0.0946 - val_mean_iou: 0.8552\n",
      "Epoch 63/100\n",
      "600/603 [============================>.] - ETA: 0s - loss: 0.0398 - mean_iou: 0.8556\n",
      "Epoch 00063: val_loss did not improve\n",
      "603/603 [==============================] - 7s 11ms/step - loss: 0.0398 - mean_iou: 0.8556 - val_loss: 0.0973 - val_mean_iou: 0.8561\n",
      "Epoch 64/100\n",
      "600/603 [============================>.] - ETA: 0s - loss: 0.0375 - mean_iou: 0.8566\n",
      "Epoch 00064: val_loss did not improve\n",
      "603/603 [==============================] - 7s 11ms/step - loss: 0.0378 - mean_iou: 0.8566 - val_loss: 0.0922 - val_mean_iou: 0.8570\n",
      "Epoch 65/100\n",
      "600/603 [============================>.] - ETA: 0s - loss: 0.0375 - mean_iou: 0.8575\n",
      "Epoch 00065: val_loss did not improve\n",
      "603/603 [==============================] - 7s 12ms/step - loss: 0.0375 - mean_iou: 0.8575 - val_loss: 0.1081 - val_mean_iou: 0.8579\n",
      "Epoch 66/100\n",
      "600/603 [============================>.] - ETA: 0s - loss: 0.0387 - mean_iou: 0.8583\n",
      "Epoch 00066: val_loss did not improve\n",
      "603/603 [==============================] - 7s 12ms/step - loss: 0.0386 - mean_iou: 0.8583 - val_loss: 0.0959 - val_mean_iou: 0.8588\n",
      "Epoch 67/100\n",
      "600/603 [============================>.] - ETA: 0s - loss: 0.0348 - mean_iou: 0.8592\n",
      "Epoch 00067: val_loss did not improve\n",
      "603/603 [==============================] - 7s 11ms/step - loss: 0.0351 - mean_iou: 0.8592 - val_loss: 0.1011 - val_mean_iou: 0.8597\n",
      "Epoch 68/100\n",
      "600/603 [============================>.] - ETA: 0s - loss: 0.0347 - mean_iou: 0.8601\n",
      "Epoch 00068: val_loss did not improve\n",
      "603/603 [==============================] - 7s 11ms/step - loss: 0.0347 - mean_iou: 0.8601 - val_loss: 0.0986 - val_mean_iou: 0.8606\n",
      "Epoch 69/100\n",
      "600/603 [============================>.] - ETA: 0s - loss: 0.0342 - mean_iou: 0.8610\n",
      "Epoch 00069: val_loss did not improve\n",
      "603/603 [==============================] - 7s 11ms/step - loss: 0.0343 - mean_iou: 0.8610 - val_loss: 0.1034 - val_mean_iou: 0.8615\n",
      "Epoch 70/100\n",
      "600/603 [============================>.] - ETA: 0s - loss: 0.0346 - mean_iou: 0.8619\n",
      "Epoch 00070: val_loss did not improve\n",
      "603/603 [==============================] - 7s 11ms/step - loss: 0.0345 - mean_iou: 0.8619 - val_loss: 0.1032 - val_mean_iou: 0.8623\n",
      "Epoch 71/100\n",
      "600/603 [============================>.] - ETA: 0s - loss: 0.0335 - mean_iou: 0.8627\n",
      "Epoch 00071: val_loss did not improve\n",
      "603/603 [==============================] - 7s 11ms/step - loss: 0.0333 - mean_iou: 0.8627 - val_loss: 0.1048 - val_mean_iou: 0.8632\n",
      "Epoch 72/100\n",
      "600/603 [============================>.] - ETA: 0s - loss: 0.0309 - mean_iou: 0.8636\n",
      "Epoch 00072: val_loss did not improve\n",
      "603/603 [==============================] - 6s 10ms/step - loss: 0.0310 - mean_iou: 0.8636 - val_loss: 0.1126 - val_mean_iou: 0.8641\n",
      "Epoch 73/100\n",
      "600/603 [============================>.] - ETA: 0s - loss: 0.0314 - mean_iou: 0.8645\n",
      "Epoch 00073: val_loss did not improve\n",
      "603/603 [==============================] - 6s 11ms/step - loss: 0.0314 - mean_iou: 0.8645 - val_loss: 0.1087 - val_mean_iou: 0.8650\n",
      "Epoch 74/100\n",
      "600/603 [============================>.] - ETA: 0s - loss: 0.0301 - mean_iou: 0.8654\n",
      "Epoch 00074: val_loss did not improve\n",
      "603/603 [==============================] - 6s 10ms/step - loss: 0.0301 - mean_iou: 0.8654 - val_loss: 0.1104 - val_mean_iou: 0.8658\n",
      "Epoch 75/100\n",
      "600/603 [============================>.] - ETA: 0s - loss: 0.0288 - mean_iou: 0.8663\n",
      "Epoch 00075: val_loss did not improve\n",
      "603/603 [==============================] - 7s 11ms/step - loss: 0.0288 - mean_iou: 0.8663 - val_loss: 0.1142 - val_mean_iou: 0.8667\n",
      "Epoch 76/100\n",
      "600/603 [============================>.] - ETA: 0s - loss: 0.0275 - mean_iou: 0.8671\n",
      "Epoch 00076: val_loss did not improve\n",
      "603/603 [==============================] - 7s 11ms/step - loss: 0.0275 - mean_iou: 0.8671 - val_loss: 0.1184 - val_mean_iou: 0.8676\n",
      "Epoch 77/100\n",
      "600/603 [============================>.] - ETA: 0s - loss: 0.0271 - mean_iou: 0.8680\n",
      "Epoch 00077: val_loss did not improve\n",
      "603/603 [==============================] - 6s 11ms/step - loss: 0.0270 - mean_iou: 0.8680 - val_loss: 0.1238 - val_mean_iou: 0.8685\n",
      "Epoch 78/100\n",
      "600/603 [============================>.] - ETA: 0s - loss: 0.0287 - mean_iou: 0.8689\n",
      "Epoch 00078: val_loss did not improve\n",
      "603/603 [==============================] - 7s 11ms/step - loss: 0.0288 - mean_iou: 0.8689 - val_loss: 0.1166 - val_mean_iou: 0.8693\n",
      "Epoch 79/100\n",
      "600/603 [============================>.] - ETA: 0s - loss: 0.0285 - mean_iou: 0.8697\n",
      "Epoch 00079: val_loss did not improve\n",
      "603/603 [==============================] - 7s 11ms/step - loss: 0.0285 - mean_iou: 0.8697 - val_loss: 0.1073 - val_mean_iou: 0.8701\n",
      "Epoch 80/100\n",
      "600/603 [============================>.] - ETA: 0s - loss: 0.0282 - mean_iou: 0.8705\n",
      "Epoch 00080: val_loss did not improve\n",
      "603/603 [==============================] - 7s 11ms/step - loss: 0.0282 - mean_iou: 0.8705 - val_loss: 0.1167 - val_mean_iou: 0.8709\n",
      "Epoch 81/100\n",
      "600/603 [============================>.] - ETA: 0s - loss: 0.0263 - mean_iou: 0.8713\n",
      "Epoch 00081: val_loss did not improve\n",
      "603/603 [==============================] - 7s 11ms/step - loss: 0.0263 - mean_iou: 0.8713 - val_loss: 0.1220 - val_mean_iou: 0.8717\n",
      "Epoch 82/100\n",
      "600/603 [============================>.] - ETA: 0s - loss: 0.0247 - mean_iou: 0.8721\n",
      "Epoch 00082: val_loss did not improve\n",
      "603/603 [==============================] - 7s 11ms/step - loss: 0.0246 - mean_iou: 0.8721 - val_loss: 0.1263 - val_mean_iou: 0.8725\n",
      "Epoch 83/100\n",
      "600/603 [============================>.] - ETA: 0s - loss: 0.0238 - mean_iou: 0.8729\n",
      "Epoch 00083: val_loss did not improve\n",
      "603/603 [==============================] - 7s 11ms/step - loss: 0.0238 - mean_iou: 0.8729 - val_loss: 0.1291 - val_mean_iou: 0.8733\n",
      "Epoch 84/100\n",
      "600/603 [============================>.] - ETA: 0s - loss: 0.0238 - mean_iou: 0.8737\n",
      "Epoch 00084: val_loss did not improve\n",
      "603/603 [==============================] - 7s 11ms/step - loss: 0.0238 - mean_iou: 0.8737 - val_loss: 0.1350 - val_mean_iou: 0.8741\n",
      "Epoch 85/100\n",
      "600/603 [============================>.] - ETA: 0s - loss: 0.0231 - mean_iou: 0.8745\n",
      "Epoch 00085: val_loss did not improve\n",
      "603/603 [==============================] - 6s 10ms/step - loss: 0.0232 - mean_iou: 0.8745 - val_loss: 0.1324 - val_mean_iou: 0.8749\n",
      "Epoch 86/100\n",
      "600/603 [============================>.] - ETA: 0s - loss: 0.0234 - mean_iou: 0.8753\n",
      "Epoch 00086: val_loss did not improve\n",
      "603/603 [==============================] - 6s 10ms/step - loss: 0.0234 - mean_iou: 0.8753 - val_loss: 0.1363 - val_mean_iou: 0.8757\n",
      "Epoch 87/100\n",
      "600/603 [============================>.] - ETA: 0s - loss: 0.0227 - mean_iou: 0.8761\n",
      "Epoch 00087: val_loss did not improve\n",
      "603/603 [==============================] - 6s 10ms/step - loss: 0.0227 - mean_iou: 0.8761 - val_loss: 0.1310 - val_mean_iou: 0.8765\n",
      "Epoch 88/100\n",
      "600/603 [============================>.] - ETA: 0s - loss: 0.0231 - mean_iou: 0.8768\n",
      "Epoch 00088: val_loss did not improve\n",
      "603/603 [==============================] - 6s 10ms/step - loss: 0.0230 - mean_iou: 0.8768 - val_loss: 0.1299 - val_mean_iou: 0.8772\n",
      "Epoch 89/100\n",
      "600/603 [============================>.] - ETA: 0s - loss: 0.0221 - mean_iou: 0.8776\n",
      "Epoch 00089: val_loss did not improve\n",
      "603/603 [==============================] - 6s 10ms/step - loss: 0.0220 - mean_iou: 0.8776 - val_loss: 0.1348 - val_mean_iou: 0.8780\n"
     ]
    },
    {
     "name": "stdout",
     "output_type": "stream",
     "text": [
      "Epoch 90/100\n",
      "600/603 [============================>.] - ETA: 0s - loss: 0.0212 - mean_iou: 0.8783\n",
      "Epoch 00090: val_loss did not improve\n",
      "603/603 [==============================] - 6s 10ms/step - loss: 0.0212 - mean_iou: 0.8783 - val_loss: 0.1364 - val_mean_iou: 0.8787\n",
      "Epoch 91/100\n",
      "600/603 [============================>.] - ETA: 0s - loss: 0.0204 - mean_iou: 0.8791\n",
      "Epoch 00091: val_loss did not improve\n",
      "603/603 [==============================] - 6s 10ms/step - loss: 0.0204 - mean_iou: 0.8791 - val_loss: 0.1488 - val_mean_iou: 0.8795\n",
      "Epoch 92/100\n",
      "600/603 [============================>.] - ETA: 0s - loss: 0.0208 - mean_iou: 0.8798\n",
      "Epoch 00092: val_loss did not improve\n",
      "603/603 [==============================] - 6s 10ms/step - loss: 0.0209 - mean_iou: 0.8798 - val_loss: 0.1416 - val_mean_iou: 0.8802\n",
      "Epoch 93/100\n",
      "600/603 [============================>.] - ETA: 0s - loss: 0.0217 - mean_iou: 0.8805\n",
      "Epoch 00093: val_loss did not improve\n",
      "603/603 [==============================] - 6s 10ms/step - loss: 0.0216 - mean_iou: 0.8805 - val_loss: 0.1445 - val_mean_iou: 0.8809\n",
      "Epoch 94/100\n",
      "600/603 [============================>.] - ETA: 0s - loss: 0.0204 - mean_iou: 0.8812\n",
      "Epoch 00094: val_loss did not improve\n",
      "603/603 [==============================] - 6s 10ms/step - loss: 0.0204 - mean_iou: 0.8812 - val_loss: 0.1521 - val_mean_iou: 0.8816\n",
      "Epoch 95/100\n",
      "600/603 [============================>.] - ETA: 0s - loss: 0.0193 - mean_iou: 0.8820\n",
      "Epoch 00095: val_loss did not improve\n",
      "603/603 [==============================] - 6s 10ms/step - loss: 0.0193 - mean_iou: 0.8820 - val_loss: 0.1482 - val_mean_iou: 0.8823\n",
      "Epoch 96/100\n",
      "600/603 [============================>.] - ETA: 0s - loss: 0.0202 - mean_iou: 0.8827\n",
      "Epoch 00096: val_loss did not improve\n",
      "603/603 [==============================] - 7s 11ms/step - loss: 0.0202 - mean_iou: 0.8827 - val_loss: 0.1350 - val_mean_iou: 0.8830\n",
      "Epoch 97/100\n",
      "600/603 [============================>.] - ETA: 0s - loss: 0.0210 - mean_iou: 0.8833\n",
      "Epoch 00097: val_loss did not improve\n",
      "603/603 [==============================] - 6s 10ms/step - loss: 0.0210 - mean_iou: 0.8833 - val_loss: 0.1375 - val_mean_iou: 0.8837\n",
      "Epoch 98/100\n",
      "600/603 [============================>.] - ETA: 0s - loss: 0.0200 - mean_iou: 0.8840\n",
      "Epoch 00098: val_loss did not improve\n",
      "603/603 [==============================] - 6s 10ms/step - loss: 0.0200 - mean_iou: 0.8840 - val_loss: 0.1422 - val_mean_iou: 0.8843\n",
      "Epoch 99/100\n",
      "600/603 [============================>.] - ETA: 0s - loss: 0.0189 - mean_iou: 0.8846\n",
      "Epoch 00099: val_loss did not improve\n",
      "603/603 [==============================] - 6s 10ms/step - loss: 0.0189 - mean_iou: 0.8846 - val_loss: 0.1443 - val_mean_iou: 0.8850\n",
      "Epoch 100/100\n",
      "600/603 [============================>.] - ETA: 0s - loss: 0.0193 - mean_iou: 0.8853\n",
      "Epoch 00100: val_loss did not improve\n",
      "603/603 [==============================] - 6s 9ms/step - loss: 0.0192 - mean_iou: 0.8853 - val_loss: 0.1502 - val_mean_iou: 0.8856\n"
     ]
    }
   ],
   "source": [
    "#earlystopper = EarlyStopping(patience=5, verbose=1)\n",
    "checkpointer = ModelCheckpoint('model-tmp-v4.h5', verbose=1, save_best_only=True)\n",
    "results = model.fit(X_train, Y_train, validation_split=0.1, batch_size=8, epochs=100, verbose=1, callbacks=[checkpointer])"
   ]
  },
  {
   "cell_type": "code",
   "execution_count": 15,
   "metadata": {},
   "outputs": [
    {
     "name": "stdout",
     "output_type": "stream",
     "text": [
      "\n",
      "Epoch 00001: val_loss did not improve\n",
      "\n",
      "Epoch 00002: val_loss did not improve\n",
      "\n",
      "Epoch 00003: val_loss did not improve\n",
      "\n",
      "Epoch 00004: val_loss did not improve\n",
      "\n",
      "Epoch 00005: val_loss did not improve\n",
      "\n",
      "Epoch 00006: val_loss did not improve\n",
      "\n",
      "Epoch 00007: val_loss did not improve\n",
      "\n",
      "Epoch 00008: val_loss did not improve\n",
      "\n",
      "Epoch 00009: val_loss did not improve\n",
      "\n",
      "Epoch 00010: val_loss did not improve\n",
      "\n",
      "Epoch 00011: val_loss did not improve\n",
      "\n",
      "Epoch 00012: val_loss did not improve\n",
      "\n",
      "Epoch 00013: val_loss did not improve\n",
      "\n",
      "Epoch 00014: val_loss did not improve\n",
      "\n",
      "Epoch 00015: val_loss did not improve\n",
      "\n",
      "Epoch 00016: val_loss did not improve\n",
      "\n",
      "Epoch 00017: val_loss did not improve\n",
      "\n",
      "Epoch 00018: val_loss did not improve\n",
      "\n",
      "Epoch 00019: val_loss did not improve\n",
      "\n",
      "Epoch 00020: val_loss did not improve\n",
      "\n",
      "Epoch 00021: val_loss did not improve\n",
      "\n",
      "Epoch 00022: val_loss did not improve\n",
      "\n",
      "Epoch 00023: val_loss did not improve\n",
      "\n",
      "Epoch 00024: val_loss did not improve\n",
      "\n",
      "Epoch 00025: val_loss did not improve\n",
      "\n",
      "Epoch 00026: val_loss did not improve\n",
      "\n",
      "Epoch 00027: val_loss did not improve\n",
      "\n",
      "Epoch 00028: val_loss did not improve\n",
      "\n",
      "Epoch 00029: val_loss did not improve\n",
      "\n",
      "Epoch 00030: val_loss did not improve\n",
      "Train on 603 samples, validate on 67 samples\n",
      "Epoch 1/1\n",
      "600/603 [============================>.] - ETA: 0s - loss: 0.0135 - mean_iou: 0.9014\n",
      "Epoch 00001: val_loss did not improve\n",
      "603/603 [==============================] - 6s 10ms/step - loss: 0.0135 - mean_iou: 0.9014 - val_loss: 0.1763 - val_mean_iou: 0.9016\n"
     ]
    }
   ],
   "source": [
    "K.set_value(model.optimizer.lr, 0.001)\n",
    "results = model.fit(X_train, Y_train, validation_split=0.1, batch_size=8, epochs=30, verbose=0, callbacks=[checkpointer])\n",
    "results = model.fit(X_train, Y_train, validation_split=0.1, batch_size=8, epochs=1, verbose=1, callbacks=[checkpointer])"
   ]
  },
  {
   "cell_type": "code",
   "execution_count": 16,
   "metadata": {},
   "outputs": [
    {
     "name": "stdout",
     "output_type": "stream",
     "text": [
      "\n",
      "Epoch 00001: val_loss did not improve\n",
      "\n",
      "Epoch 00002: val_loss did not improve\n",
      "\n",
      "Epoch 00003: val_loss did not improve\n",
      "\n",
      "Epoch 00004: val_loss did not improve\n",
      "\n",
      "Epoch 00005: val_loss did not improve\n",
      "\n",
      "Epoch 00006: val_loss did not improve\n",
      "\n",
      "Epoch 00007: val_loss did not improve\n",
      "\n",
      "Epoch 00008: val_loss did not improve\n",
      "\n",
      "Epoch 00009: val_loss did not improve\n",
      "\n",
      "Epoch 00010: val_loss did not improve\n",
      "\n",
      "Epoch 00011: val_loss did not improve\n",
      "\n",
      "Epoch 00012: val_loss did not improve\n",
      "\n",
      "Epoch 00013: val_loss did not improve\n",
      "\n",
      "Epoch 00014: val_loss did not improve\n",
      "\n",
      "Epoch 00015: val_loss did not improve\n",
      "\n",
      "Epoch 00016: val_loss did not improve\n",
      "\n",
      "Epoch 00017: val_loss did not improve\n",
      "\n",
      "Epoch 00018: val_loss did not improve\n",
      "\n",
      "Epoch 00019: val_loss did not improve\n",
      "\n",
      "Epoch 00020: val_loss did not improve\n",
      "\n",
      "Epoch 00021: val_loss did not improve\n",
      "\n",
      "Epoch 00022: val_loss did not improve\n",
      "\n",
      "Epoch 00023: val_loss did not improve\n",
      "\n",
      "Epoch 00024: val_loss did not improve\n",
      "\n",
      "Epoch 00025: val_loss did not improve\n",
      "\n",
      "Epoch 00026: val_loss did not improve\n",
      "\n",
      "Epoch 00027: val_loss did not improve\n",
      "\n",
      "Epoch 00028: val_loss did not improve\n",
      "\n",
      "Epoch 00029: val_loss did not improve\n",
      "\n",
      "Epoch 00030: val_loss did not improve\n",
      "Train on 603 samples, validate on 67 samples\n",
      "Epoch 1/1\n",
      "600/603 [============================>.] - ETA: 0s - loss: 0.0062 - mean_iou: 0.9147\n",
      "Epoch 00001: val_loss did not improve\n",
      "603/603 [==============================] - 6s 10ms/step - loss: 0.0062 - mean_iou: 0.9147 - val_loss: 0.2918 - val_mean_iou: 0.9149\n"
     ]
    }
   ],
   "source": [
    "K.set_value(model.optimizer.lr, 0.0001)\n",
    "results = model.fit(X_train, Y_train, validation_split=0.1, batch_size=8, epochs=30, verbose=0, callbacks=[checkpointer])\n",
    "results = model.fit(X_train, Y_train, validation_split=0.1, batch_size=8, epochs=1, verbose=1, callbacks=[checkpointer])"
   ]
  },
  {
   "cell_type": "code",
   "execution_count": 17,
   "metadata": {},
   "outputs": [
    {
     "name": "stdout",
     "output_type": "stream",
     "text": [
      "\n",
      "Epoch 00001: val_loss did not improve\n",
      "\n",
      "Epoch 00002: val_loss did not improve\n",
      "\n",
      "Epoch 00003: val_loss did not improve\n",
      "\n",
      "Epoch 00004: val_loss did not improve\n",
      "\n",
      "Epoch 00005: val_loss did not improve\n",
      "\n",
      "Epoch 00006: val_loss did not improve\n",
      "\n",
      "Epoch 00007: val_loss did not improve\n",
      "\n",
      "Epoch 00008: val_loss did not improve\n",
      "\n",
      "Epoch 00009: val_loss did not improve\n",
      "\n",
      "Epoch 00010: val_loss did not improve\n",
      "\n",
      "Epoch 00011: val_loss did not improve\n",
      "\n",
      "Epoch 00012: val_loss did not improve\n",
      "\n",
      "Epoch 00013: val_loss did not improve\n",
      "\n",
      "Epoch 00014: val_loss did not improve\n",
      "\n",
      "Epoch 00015: val_loss did not improve\n",
      "\n",
      "Epoch 00016: val_loss did not improve\n",
      "\n",
      "Epoch 00017: val_loss did not improve\n",
      "\n",
      "Epoch 00018: val_loss did not improve\n",
      "\n",
      "Epoch 00019: val_loss did not improve\n",
      "\n",
      "Epoch 00020: val_loss did not improve\n",
      "\n",
      "Epoch 00021: val_loss did not improve\n",
      "\n",
      "Epoch 00022: val_loss did not improve\n",
      "\n",
      "Epoch 00023: val_loss did not improve\n",
      "\n",
      "Epoch 00024: val_loss did not improve\n",
      "\n",
      "Epoch 00025: val_loss did not improve\n",
      "\n",
      "Epoch 00026: val_loss did not improve\n",
      "\n",
      "Epoch 00027: val_loss did not improve\n",
      "\n",
      "Epoch 00028: val_loss did not improve\n",
      "\n",
      "Epoch 00029: val_loss did not improve\n",
      "\n",
      "Epoch 00030: val_loss did not improve\n",
      "Train on 603 samples, validate on 67 samples\n",
      "Epoch 1/1\n",
      "600/603 [============================>.] - ETA: 0s - loss: 0.0055 - mean_iou: 0.9245\n",
      "Epoch 00001: val_loss did not improve\n",
      "603/603 [==============================] - 6s 10ms/step - loss: 0.0055 - mean_iou: 0.9245 - val_loss: 0.3102 - val_mean_iou: 0.9246\n"
     ]
    }
   ],
   "source": [
    "K.set_value(model.optimizer.lr, 0.00001)\n",
    "results = model.fit(X_train, Y_train, validation_split=0.1, batch_size=8, epochs=30, verbose=0, callbacks=[checkpointer])\n",
    "results = model.fit(X_train, Y_train, validation_split=0.1, batch_size=8, epochs=1, verbose=1, callbacks=[checkpointer])"
   ]
  },
  {
   "cell_type": "code",
   "execution_count": 24,
   "metadata": {},
   "outputs": [
    {
     "name": "stdout",
     "output_type": "stream",
     "text": [
      "603/603 [==============================] - 1s 2ms/step\n",
      "67/67 [==============================] - 0s 2ms/step\n",
      "65/65 [==============================] - 0s 2ms/step\n"
     ]
    }
   ],
   "source": [
    "model.save_weights(DATA_PATH+'model-tmp-v4_last.h5')\n",
    "# Predict on train, val and test\n",
    "#model = load_model('model-tmp-v4.h5', custom_objects={'mean_iou': mean_iou})\n",
    "\n",
    "preds_train = model.predict(X_train[:int(X_train.shape[0]*0.9)], verbose=1)\n",
    "preds_val = model.predict(X_train[int(X_train.shape[0]*0.9):], verbose=1)\n",
    "preds_test = model.predict(X_test, verbose=1)\n",
    "\n",
    "# Threshold predictions\n",
    "preds_train_t = (preds_train > 0.5).astype(np.uint8)\n",
    "preds_val_t = (preds_val > 0.5).astype(np.uint8)\n",
    "preds_test_t = (preds_test > 0.5).astype(np.uint8)\n",
    "\n",
    "# Create list of upsampled test masks\n",
    "preds_test_upsampled = []\n",
    "for i in range(len(preds_test)):\n",
    "    preds_test_upsampled.append(resize(np.squeeze(preds_test[i]), \n",
    "                                       (sizes_test[i][0], sizes_test[i][1]), \n",
    "                                       mode='constant', preserve_range=True))"
   ]
  },
  {
   "cell_type": "code",
   "execution_count": 25,
   "metadata": {},
   "outputs": [
    {
     "data": {
      "image/png": "[encoded data removed]",
      "text/plain": [
       "<matplotlib.figure.Figure at 0x7fd3fbb6a5d0>"
      ]
     },
     "metadata": {},
     "output_type": "display_data"
    },
    {
     "data": {
      "image/png": "[encoded data removed]",
      "text/plain": [
       "<matplotlib.figure.Figure at 0x7fd3fbbe0e10>"
      ]
     },
     "metadata": {},
     "output_type": "display_data"
    },
    {
     "data": {
      "image/png": "[encoded data removed]",
      "text/plain": [
       "<matplotlib.figure.Figure at 0x7fd3fb786850>"
      ]
     },
     "metadata": {},
     "output_type": "display_data"
    }
   ],
   "source": [
    "# Perform a sanity check on some random training samples\n",
    "ix = random.randint(0, len(preds_train_t))\n",
    "imshow(X_train[ix])\n",
    "plt.show()\n",
    "imshow(np.squeeze(Y_train[ix]))\n",
    "plt.show()\n",
    "imshow(np.squeeze(preds_train_t[ix]))\n",
    "plt.show()"
   ]
  },
  {
   "cell_type": "code",
   "execution_count": 26,
   "metadata": {},
   "outputs": [
    {
     "data": {
      "image/png": "[encoded data removed]",
      "text/plain": [
       "<matplotlib.figure.Figure at 0x7fd3fbb8f290>"
      ]
     },
     "metadata": {},
     "output_type": "display_data"
    },
    {
     "data": {
      "image/png": "[encoded data removed]",
      "text/plain": [
       "<matplotlib.figure.Figure at 0x7fd3fb593350>"
      ]
     },
     "metadata": {},
     "output_type": "display_data"
    },
    {
     "data": {
      "image/png": "[encoded data removed]",
      "text/plain": [
       "<matplotlib.figure.Figure at 0x7fd3fb541710>"
      ]
     },
     "metadata": {},
     "output_type": "display_data"
    }
   ],
   "source": [
    "# Perform a sanity check on some random validation samples\n",
    "ix = random.randint(0, len(preds_val_t))\n",
    "imshow(X_train[int(X_train.shape[0]*0.9):][ix])\n",
    "plt.show()\n",
    "imshow(np.squeeze(Y_train[int(Y_train.shape[0]*0.9):][ix]))\n",
    "plt.show()\n",
    "imshow(np.squeeze(preds_val_t[ix]))\n",
    "plt.show()"
   ]
  },
  {
   "cell_type": "code",
   "execution_count": 27,
   "metadata": {},
   "outputs": [],
   "source": [
    "# Run-length encoding stolen from https://www.kaggle.com/rakhlin/fast-run-length-encoding-python\n",
    "def rle_encoding(x):\n",
    "    dots = np.where(x.T.flatten() == 1)[0]\n",
    "    run_lengths = []\n",
    "    prev = -2\n",
    "    for b in dots:\n",
    "        if (b>prev+1): run_lengths.extend((b + 1, 0))\n",
    "        run_lengths[-1] += 1\n",
    "        prev = b\n",
    "    return run_lengths\n",
    "\n",
    "def prob_to_rles(x, cutoff=0.5):\n",
    "    lab_img = label(x > cutoff)\n",
    "    for i in range(1, lab_img.max() + 1):\n",
    "        yield rle_encoding(lab_img == i)"
   ]
  },
  {
   "cell_type": "code",
   "execution_count": 28,
   "metadata": {
    "scrolled": true
   },
   "outputs": [],
   "source": [
    "new_test_ids = []\n",
    "rles = []\n",
    "for n, id_ in enumerate(test_ids):\n",
    "    rle = list(prob_to_rles(preds_test_upsampled[n]))\n",
    "    rles.extend(rle)\n",
    "    new_test_ids.extend([id_] * len(rle))"
   ]
  },
  {
   "cell_type": "code",
   "execution_count": 29,
   "metadata": {},
   "outputs": [],
   "source": [
    "# Create submission DataFrame\n",
    "sub = pd.DataFrame()\n",
    "sub['ImageId'] = new_test_ids\n",
    "sub['EncodedPixels'] = pd.Series(rles).apply(lambda x: ' '.join(str(y) for y in x))\n",
    "sub.to_csv('sub-tmp-v4.csv', index=False)"
   ]
  },
  {
   "cell_type": "code",
   "execution_count": null,
   "metadata": {},
   "outputs": [],
   "source": []
  }
 ],
 "metadata": {
  "anaconda-cloud": {},
  "kernelspec": {
   "display_name": "Python 2",
   "language": "python",
   "name": "python2"
  },
  "language_info": {
   "codemirror_mode": {
    "name": "ipython",
    "version": 2
   },
   "file_extension": ".py",
   "mimetype": "text/x-python",
   "name": "python",
   "nbconvert_exporter": "python",
   "pygments_lexer": "ipython2",
   "version": "2.7.14"
  },
  "nav_menu": {},
  "nbpresent": {
   "slides": {
    "28b43202-5690-4169-9aca-6b9dabfeb3ec": {
     "id": "28b43202-5690-4169-9aca-6b9dabfeb3ec",
     "prev": null,
     "regions": {
      "3bba644a-cf4d-4a49-9fbd-e2554428cf9f": {
       "attrs": {
        "height": 0.8,
        "width": 0.8,
        "x": 0.1,
        "y": 0.1
       },
       "content": {
        "cell": "f3d3a388-7e2a-4151-9b50-c20498fceacc",
        "part": "whole"
       },
       "id": "3bba644a-cf4d-4a49-9fbd-e2554428cf9f"
      }
     }
    },
    "8104def2-4b68-44a0-8f1b-b03bf3b2a079": {
     "id": "8104def2-4b68-44a0-8f1b-b03bf3b2a079",
     "prev": "28b43202-5690-4169-9aca-6b9dabfeb3ec",
     "regions": {
      "7dded777-1ddf-4100-99ae-25cf1c15b575": {
       "attrs": {
        "height": 0.8,
        "width": 0.8,
        "x": 0.1,
        "y": 0.1
       },
       "content": {
        "cell": "fe47bd48-3414-4657-92e7-8b8d6cb0df00",
        "part": "whole"
       },
       "id": "7dded777-1ddf-4100-99ae-25cf1c15b575"
      }
     }
    }
   },
   "themes": {}
  },
  "toc": {
   "navigate_menu": true,
   "number_sections": true,
   "sideBar": true,
   "threshold": 6,
   "toc_cell": false,
   "toc_section_display": "block",
   "toc_window_display": false
  }
 },
 "nbformat": 4,
 "nbformat_minor": 1
}
