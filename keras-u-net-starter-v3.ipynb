{
 "cells": [
  {
   "cell_type": "code",
   "execution_count": 1,
   "metadata": {},
   "outputs": [
    {
     "name": "stderr",
     "output_type": "stream",
     "text": [
      "/usr/local/lib/python2.7/dist-packages/h5py/__init__.py:34: FutureWarning: Conversion of the second argument of issubdtype from `float` to `np.floating` is deprecated. In future, it will be treated as `np.float64 == np.dtype(float).type`.\n",
      "  from ._conv import register_converters as _register_converters\n",
      "Using TensorFlow backend.\n"
     ]
    },
    {
     "name": "stdout",
     "output_type": "stream",
     "text": [
      "2.7579927\n",
      "3.7836285\n"
     ]
    }
   ],
   "source": [
    "import os\n",
    "os.environ['PYTHONHASHSEED'] = '0'\n",
    "\n",
    "import tensorflow as tf\n",
    "import numpy as np\n",
    "tf.reset_default_graph()\n",
    "\n",
    "random_seed = 42\n",
    "from numpy.random import seed\n",
    "seed(random_seed)\n",
    "from tensorflow import set_random_seed\n",
    "set_random_seed(random_seed)\n",
    "import random\n",
    "random.seed(random_seed)\n",
    "#print(random.getstate())\n",
    "\n",
    "from keras import backend as K\n",
    "\n",
    "with tf.device('/gpu:0'):\n",
    "    c = tf.random_uniform([], -10, 10)\n",
    "    d = tf.random_uniform([], -10, 10)\n",
    "\n",
    "with tf.Session(config=tf.ConfigProto(log_device_placement=True)) as sess:\n",
    "    print(sess.run(c))\n",
    "    print(sess.run(d))\n",
    "    \n",
    "    \n",
    "session_conf = tf.ConfigProto(intra_op_parallelism_threads=1, inter_op_parallelism_threads=1)   \n",
    "sess = tf.Session(graph=tf.get_default_graph(), config=session_conf)    \n",
    "\n",
    "K.set_session(sess)    \n",
    "#print(sess)\n",
    "#config = tf.ConfigProto(\n",
    "#        device_count = {'GPU': 0}\n",
    "#    )\n",
    "#sess = tf.Session(config=config)\n",
    "# https://machinelearningmastery.com/reproducible-results-neural-networks-keras/\n",
    "# https://stackoverflow.com/questions/45230448/how-to-get-reproducible-result-when-running-keras-with-tensorflow-backend\n",
    "# https://stackoverflow.com/questions/46836857/results-not-reproducible-with-keras-and-tensorflow-in-python"
   ]
  },
  {
   "cell_type": "code",
   "execution_count": 2,
   "metadata": {},
   "outputs": [
    {
     "name": "stdout",
     "output_type": "stream",
     "text": [
      "2.1.3\n"
     ]
    }
   ],
   "source": [
    "import os\n",
    "import sys\n",
    "import warnings\n",
    "\n",
    "import pandas as pd\n",
    "\n",
    "import matplotlib.pyplot as plt\n",
    "\n",
    "from tqdm import tqdm\n",
    "from itertools import chain\n",
    "from skimage.io import imread, imshow, imread_collection, concatenate_images\n",
    "from skimage.transform import resize\n",
    "from skimage.morphology import label\n",
    "\n",
    "from keras.models import Model, load_model\n",
    "from keras.layers import Input\n",
    "from keras.layers.core import Lambda\n",
    "from keras.layers.convolutional import Conv2D, Conv2DTranspose\n",
    "from keras.layers.pooling import MaxPooling2D\n",
    "from keras.layers.merge import concatenate\n",
    "from keras.callbacks import EarlyStopping, ModelCheckpoint\n",
    "from keras.optimizers import SGD, RMSprop, Adam\n",
    "\n",
    "import keras\n",
    "print(keras.__version__)"
   ]
  },
  {
   "cell_type": "code",
   "execution_count": 3,
   "metadata": {},
   "outputs": [],
   "source": [
    "# Set some parameters\n",
    "IMG_WIDTH = 128\n",
    "IMG_HEIGHT = 128\n",
    "IMG_CHANNELS = 3\n",
    "TRAIN_PATH = 'data/stage1_train/'\n",
    "TEST_PATH = 'data/stage1_test/'\n",
    "DATA_PATH = 'data/'\n",
    "\n",
    "warnings.filterwarnings('ignore', category=UserWarning, module='skimage')"
   ]
  },
  {
   "cell_type": "code",
   "execution_count": 4,
   "metadata": {},
   "outputs": [
    {
     "name": "stdout",
     "output_type": "stream",
     "text": [
      "670\n",
      "65\n"
     ]
    }
   ],
   "source": [
    "# Get train and test IDs\n",
    "train_ids = next(os.walk(TRAIN_PATH))[1]\n",
    "test_ids = next(os.walk(TEST_PATH))[1]\n",
    "print(len(train_ids))\n",
    "print(len(test_ids))"
   ]
  },
  {
   "cell_type": "code",
   "execution_count": 5,
   "metadata": {},
   "outputs": [
    {
     "name": "stdout",
     "output_type": "stream",
     "text": [
      "/home/chen/workspace/git_examples/kaggle-nuclei-challenge\n"
     ]
    }
   ],
   "source": [
    "current_dir = os.getcwd()\n",
    "print(current_dir)"
   ]
  },
  {
   "cell_type": "code",
   "execution_count": 6,
   "metadata": {},
   "outputs": [],
   "source": [
    "import bcolz\n",
    "def save_array(fname, arr): c=bcolz.carray(arr, rootdir=fname, mode='w'); c.flush()\n",
    "def load_array(fname): return bcolz.open(fname)[:]"
   ]
  },
  {
   "cell_type": "markdown",
   "metadata": {},
   "source": [
    "def fit_model():\n",
    "    model = get_model_bn_do()\n",
    "    model.fit_generator(batches, batches.N, nb_epoch=1, verbose=0,\n",
    "                        validation_data=test_batches, nb_val_samples=test_batches.N)\n",
    "    model.optimizer.lr=0.1\n",
    "    model.fit_generator(batches, batches.N, nb_epoch=4, verbose=0,\n",
    "                        validation_data=test_batches, nb_val_samples=test_batches.N)\n",
    "    model.optimizer.lr=0.01\n",
    "    model.fit_generator(batches, batches.N, nb_epoch=12, verbose=0,\n",
    "                        validation_data=test_batches, nb_val_samples=test_batches.N)\n",
    "    model.optimizer.lr=0.001\n",
    "    model.fit_generator(batches, batches.N, nb_epoch=18, verbose=0,\n",
    "                        validation_data=test_batches, nb_val_samples=test_batches.N)\n",
    "    return model"
   ]
  },
  {
   "cell_type": "code",
   "execution_count": 7,
   "metadata": {},
   "outputs": [
    {
     "name": "stdout",
     "output_type": "stream",
     "text": [
      "Getting and resizing train images and masks ... \n"
     ]
    },
    {
     "name": "stderr",
     "output_type": "stream",
     "text": [
      "100%|██████████| 670/670 [00:50<00:00, 13.24it/s]"
     ]
    },
    {
     "name": "stdout",
     "output_type": "stream",
     "text": [
      "Getting and resizing test images ... \n"
     ]
    },
    {
     "name": "stderr",
     "output_type": "stream",
     "text": [
      "\n",
      "100%|██████████| 65/65 [00:00<00:00, 140.34it/s]"
     ]
    },
    {
     "name": "stdout",
     "output_type": "stream",
     "text": [
      "Done!\n"
     ]
    },
    {
     "name": "stderr",
     "output_type": "stream",
     "text": [
      "\n"
     ]
    }
   ],
   "source": [
    "# Get and resize train images and masks\n",
    "X_train = np.zeros((len(train_ids), IMG_HEIGHT, IMG_WIDTH, IMG_CHANNELS), dtype=np.uint8)\n",
    "Y_train = np.zeros((len(train_ids), IMG_HEIGHT, IMG_WIDTH, 1), dtype=np.bool)\n",
    "print('Getting and resizing train images and masks ... ')\n",
    "sys.stdout.flush()\n",
    "\n",
    "filenames = []\n",
    "for n, id_ in tqdm(enumerate(train_ids), total=len(train_ids)):\n",
    "    path = TRAIN_PATH + id_\n",
    "    img = imread(path + '/images/' + id_ + '.png')[:,:,:IMG_CHANNELS]\n",
    "    filenames.append(path + '/images/' + id_ + '.png')\n",
    "    img = resize(img, (IMG_HEIGHT, IMG_WIDTH), mode='constant', preserve_range=True)\n",
    "    X_train[n] = img\n",
    "    mask = np.zeros((IMG_HEIGHT, IMG_WIDTH, 1), dtype=np.bool)\n",
    "    for mask_file in next(os.walk(path + '/masks/'))[2]:\n",
    "        mask_ = imread(path + '/masks/' + mask_file)\n",
    "        mask_ = np.expand_dims(resize(mask_, (IMG_HEIGHT, IMG_WIDTH), mode='constant', \n",
    "                                      preserve_range=True), axis=-1)\n",
    "        mask = np.maximum(mask, mask_)\n",
    "    Y_train[n] = mask\n",
    "\n",
    "# Get and resize test images\n",
    "X_test = np.zeros((len(test_ids), IMG_HEIGHT, IMG_WIDTH, IMG_CHANNELS), dtype=np.uint8)\n",
    "sizes_test = []\n",
    "print('Getting and resizing test images ... ')\n",
    "sys.stdout.flush()\n",
    "for n, id_ in tqdm(enumerate(test_ids), total=len(test_ids)):\n",
    "    path = TEST_PATH + id_\n",
    "    img = imread(path + '/images/' + id_ + '.png')[:,:,:IMG_CHANNELS]\n",
    "    sizes_test.append([img.shape[0], img.shape[1]])\n",
    "    img = resize(img, (IMG_HEIGHT, IMG_WIDTH), mode='constant', preserve_range=True)\n",
    "    X_test[n] = img\n",
    "\n",
    "save_array(DATA_PATH + 'X_train.bc', X_train)\n",
    "save_array(DATA_PATH + 'Y_train.bc', Y_train)\n",
    "save_array(DATA_PATH + 'X_test.bc', X_test)\n",
    "save_array(DATA_PATH + 'filenames.bc', filenames)\n",
    "\n",
    "print('Done!')"
   ]
  },
  {
   "cell_type": "code",
   "execution_count": 8,
   "metadata": {},
   "outputs": [],
   "source": [
    "X_train = load_array(DATA_PATH + 'X_train.bc')\n",
    "Y_train = load_array(DATA_PATH + 'Y_train.bc')\n",
    "X_test = load_array(DATA_PATH + 'X_test.bc')\n",
    "filenames = load_array(DATA_PATH + 'filenames.bc')"
   ]
  },
  {
   "cell_type": "code",
   "execution_count": 9,
   "metadata": {},
   "outputs": [
    {
     "data": {
      "text/plain": [
       "Counter({(256, 256): 334,\n",
       "         (320, 256): 112,\n",
       "         (347, 260): 5,\n",
       "         (360, 360): 91,\n",
       "         (640, 512): 13,\n",
       "         (696, 520): 92,\n",
       "         (1024, 1024): 16,\n",
       "         (1272, 603): 6,\n",
       "         (1388, 1040): 1})"
      ]
     },
     "execution_count": 9,
     "metadata": {},
     "output_type": "execute_result"
    }
   ],
   "source": [
    "import PIL\n",
    "import collections\n",
    "sizes = [PIL.Image.open(f).size for f in filenames]\n",
    "collections.Counter(sizes)"
   ]
  },
  {
   "cell_type": "code",
   "execution_count": 10,
   "metadata": {},
   "outputs": [
    {
     "name": "stderr",
     "output_type": "stream",
     "text": [
      "/usr/local/lib/python2.7/dist-packages/skimage/io/_plugins/matplotlib_plugin.py:51: FutureWarning: Conversion of the second argument of issubdtype from `float` to `np.floating` is deprecated. In future, it will be treated as `np.float64 == np.dtype(float).type`.\n",
      "  out_of_range_float = (np.issubdtype(image.dtype, np.float) and\n"
     ]
    },
    {
     "name": "stdout",
     "output_type": "stream",
     "text": [
      "102\n"
     ]
    },
    {
     "data": {
      "image/png": "[encoded data removed]",
      "text/plain": [
       "<matplotlib.figure.Figure at 0x7fbb2693d210>"
      ]
     },
     "metadata": {},
     "output_type": "display_data"
    },
    {
     "data": {
      "image/png": "[encoded data removed]",
      "text/plain": [
       "<matplotlib.figure.Figure at 0x7fbbb1cec790>"
      ]
     },
     "metadata": {},
     "output_type": "display_data"
    }
   ],
   "source": [
    "# Check if training data looks all right\n",
    "ix = np.random.randint(0, len(train_ids))\n",
    "print(ix)\n",
    "imshow(X_train[ix])\n",
    "plt.show()\n",
    "imshow(np.squeeze(Y_train[ix]))\n",
    "plt.show()"
   ]
  },
  {
   "cell_type": "code",
   "execution_count": 11,
   "metadata": {},
   "outputs": [],
   "source": [
    "# Define IoU metric\n",
    "def mean_iou(y_true, y_pred):\n",
    "    prec = []\n",
    "    for t in np.arange(0.5, 1.0, 0.05):\n",
    "        y_pred_ = tf.to_int32(y_pred > t)\n",
    "        score, up_opt = tf.metrics.mean_iou(y_true, y_pred_, 2)\n",
    "        K.get_session().run(tf.local_variables_initializer())\n",
    "        with tf.control_dependencies([up_opt]):\n",
    "            score = tf.identity(score)\n",
    "        prec.append(score)\n",
    "    return K.mean(K.stack(prec), axis=0)"
   ]
  },
  {
   "cell_type": "code",
   "execution_count": 12,
   "metadata": {},
   "outputs": [],
   "source": [
    "# Build U-Net model\n",
    "inputs = Input((IMG_HEIGHT, IMG_WIDTH, IMG_CHANNELS))\n",
    "s = Lambda(lambda x: x / 255) (inputs)\n",
    "\n",
    "c1 = Conv2D(8, (3, 3), activation='relu', padding='same') (s)\n",
    "c1 = Conv2D(8, (3, 3), activation='relu', padding='same') (c1)\n",
    "p1 = MaxPooling2D((2, 2)) (c1)\n",
    "\n",
    "c2 = Conv2D(16, (3, 3), activation='relu', padding='same') (p1)\n",
    "c2 = Conv2D(16, (3, 3), activation='relu', padding='same') (c2)\n",
    "p2 = MaxPooling2D((2, 2)) (c2)\n",
    "\n",
    "c3 = Conv2D(32, (3, 3), activation='relu', padding='same') (p2)\n",
    "c3 = Conv2D(32, (3, 3), activation='relu', padding='same') (c3)\n",
    "p3 = MaxPooling2D((2, 2)) (c3)\n",
    "\n",
    "c4 = Conv2D(64, (3, 3), activation='relu', padding='same') (p3)\n",
    "c4 = Conv2D(64, (3, 3), activation='relu', padding='same') (c4)\n",
    "p4 = MaxPooling2D(pool_size=(2, 2)) (c4)\n",
    "\n",
    "c5 = Conv2D(128, (3, 3), activation='relu', padding='same') (p4)\n",
    "c5 = Conv2D(128, (3, 3), activation='relu', padding='same') (c5)\n",
    "\n",
    "u6 = Conv2DTranspose(64, (2, 2), strides=(2, 2), padding='same') (c5)\n",
    "u6 = concatenate([u6, c4])\n",
    "c6 = Conv2D(64, (3, 3), activation='relu', padding='same') (u6)\n",
    "c6 = Conv2D(64, (3, 3), activation='relu', padding='same') (c6)\n",
    "\n",
    "u7 = Conv2DTranspose(32, (2, 2), strides=(2, 2), padding='same') (c6)\n",
    "u7 = concatenate([u7, c3])\n",
    "c7 = Conv2D(32, (3, 3), activation='relu', padding='same') (u7)\n",
    "c7 = Conv2D(32, (3, 3), activation='relu', padding='same') (c7)\n",
    "\n",
    "u8 = Conv2DTranspose(16, (2, 2), strides=(2, 2), padding='same') (c7)\n",
    "u8 = concatenate([u8, c2])\n",
    "c8 = Conv2D(16, (3, 3), activation='relu', padding='same') (u8)\n",
    "c8 = Conv2D(16, (3, 3), activation='relu', padding='same') (c8)\n",
    "\n",
    "u9 = Conv2DTranspose(8, (2, 2), strides=(2, 2), padding='same') (c8)\n",
    "u9 = concatenate([u9, c1], axis=3)\n",
    "c9 = Conv2D(8, (3, 3), activation='relu', padding='same') (u9)\n",
    "c9 = Conv2D(8, (3, 3), activation='relu', padding='same') (c9)\n",
    "\n",
    "outputs = Conv2D(1, (1, 1), activation='sigmoid') (c9)\n",
    "\n",
    "model = Model(inputs=[inputs], outputs=[outputs])\n",
    "model.compile(optimizer='adam', loss='binary_crossentropy', metrics=[mean_iou])\n",
    "#model.summary()"
   ]
  },
  {
   "cell_type": "code",
   "execution_count": 13,
   "metadata": {},
   "outputs": [
    {
     "name": "stdout",
     "output_type": "stream",
     "text": [
      "Train on 603 samples, validate on 67 samples\n",
      "Epoch 1/100\n",
      "584/603 [============================>.] - ETA: 0s - loss: 0.5708 - mean_iou: 0.4157\n",
      "Epoch 00001: val_loss improved from inf to 0.44784, saving model to model-tmp-v3.h5\n",
      "603/603 [==============================] - 3s 5ms/step - loss: 0.5661 - mean_iou: 0.4160 - val_loss: 0.4478 - val_mean_iou: 0.4246\n",
      "Epoch 2/100\n",
      "584/603 [============================>.] - ETA: 0s - loss: 0.3559 - mean_iou: 0.4247\n",
      "Epoch 00002: val_loss improved from 0.44784 to 0.27703, saving model to model-tmp-v3.h5\n",
      "603/603 [==============================] - 2s 3ms/step - loss: 0.3542 - mean_iou: 0.4247 - val_loss: 0.2770 - val_mean_iou: 0.4251\n",
      "Epoch 3/100\n",
      "584/603 [============================>.] - ETA: 0s - loss: 0.2245 - mean_iou: 0.4418\n",
      "Epoch 00003: val_loss improved from 0.27703 to 0.20388, saving model to model-tmp-v3.h5\n",
      "603/603 [==============================] - 2s 3ms/step - loss: 0.2220 - mean_iou: 0.4426 - val_loss: 0.2039 - val_mean_iou: 0.4712\n",
      "Epoch 4/100\n",
      "584/603 [============================>.] - ETA: 0s - loss: 0.1825 - mean_iou: 0.4963\n",
      "Epoch 00004: val_loss improved from 0.20388 to 0.18411, saving model to model-tmp-v3.h5\n",
      "603/603 [==============================] - 2s 3ms/step - loss: 0.1811 - mean_iou: 0.4969 - val_loss: 0.1841 - val_mean_iou: 0.5156\n",
      "Epoch 5/100\n",
      "584/603 [============================>.] - ETA: 0s - loss: 0.1444 - mean_iou: 0.5338\n",
      "Epoch 00005: val_loss improved from 0.18411 to 0.16946, saving model to model-tmp-v3.h5\n",
      "603/603 [==============================] - 2s 3ms/step - loss: 0.1449 - mean_iou: 0.5343 - val_loss: 0.1695 - val_mean_iou: 0.5533\n",
      "Epoch 6/100\n",
      "584/603 [============================>.] - ETA: 0s - loss: 0.1231 - mean_iou: 0.5690\n",
      "Epoch 00006: val_loss improved from 0.16946 to 0.13804, saving model to model-tmp-v3.h5\n",
      "603/603 [==============================] - 2s 3ms/step - loss: 0.1228 - mean_iou: 0.5694 - val_loss: 0.1380 - val_mean_iou: 0.5854\n",
      "Epoch 7/100\n",
      "584/603 [============================>.] - ETA: 0s - loss: 0.1081 - mean_iou: 0.5996\n",
      "Epoch 00007: val_loss improved from 0.13804 to 0.12698, saving model to model-tmp-v3.h5\n",
      "603/603 [==============================] - 2s 3ms/step - loss: 0.1078 - mean_iou: 0.5999 - val_loss: 0.1270 - val_mean_iou: 0.6136\n",
      "Epoch 8/100\n",
      "584/603 [============================>.] - ETA: 0s - loss: 0.0992 - mean_iou: 0.6261\n",
      "Epoch 00008: val_loss improved from 0.12698 to 0.11991, saving model to model-tmp-v3.h5\n",
      "603/603 [==============================] - 2s 3ms/step - loss: 0.0988 - mean_iou: 0.6264 - val_loss: 0.1199 - val_mean_iou: 0.6372\n",
      "Epoch 9/100\n",
      "584/603 [============================>.] - ETA: 0s - loss: 0.0976 - mean_iou: 0.6463\n",
      "Epoch 00009: val_loss did not improve\n",
      "603/603 [==============================] - 1s 2ms/step - loss: 0.0981 - mean_iou: 0.6465 - val_loss: 0.1238 - val_mean_iou: 0.6557\n",
      "Epoch 10/100\n",
      "584/603 [============================>.] - ETA: 0s - loss: 0.0899 - mean_iou: 0.6637\n",
      "Epoch 00010: val_loss improved from 0.11991 to 0.11288, saving model to model-tmp-v3.h5\n",
      "603/603 [==============================] - 2s 3ms/step - loss: 0.0907 - mean_iou: 0.6640 - val_loss: 0.1129 - val_mean_iou: 0.6720\n",
      "Epoch 11/100\n",
      "584/603 [============================>.] - ETA: 0s - loss: 0.0882 - mean_iou: 0.6789\n",
      "Epoch 00011: val_loss improved from 0.11288 to 0.10895, saving model to model-tmp-v3.h5\n",
      "603/603 [==============================] - 2s 3ms/step - loss: 0.0881 - mean_iou: 0.6791 - val_loss: 0.1090 - val_mean_iou: 0.6855\n",
      "Epoch 12/100\n",
      "584/603 [============================>.] - ETA: 0s - loss: 0.0865 - mean_iou: 0.6914\n",
      "Epoch 00012: val_loss did not improve\n",
      "603/603 [==============================] - 2s 3ms/step - loss: 0.0850 - mean_iou: 0.6916 - val_loss: 0.1137 - val_mean_iou: 0.6972\n",
      "Epoch 13/100\n",
      "584/603 [============================>.] - ETA: 0s - loss: 0.0845 - mean_iou: 0.7024\n",
      "Epoch 00013: val_loss improved from 0.10895 to 0.10830, saving model to model-tmp-v3.h5\n",
      "603/603 [==============================] - 2s 3ms/step - loss: 0.0840 - mean_iou: 0.7025 - val_loss: 0.1083 - val_mean_iou: 0.7076\n",
      "Epoch 14/100\n",
      "584/603 [============================>.] - ETA: 0s - loss: 0.0797 - mean_iou: 0.7123\n",
      "Epoch 00014: val_loss improved from 0.10830 to 0.10420, saving model to model-tmp-v3.h5\n",
      "603/603 [==============================] - 2s 3ms/step - loss: 0.0803 - mean_iou: 0.7124 - val_loss: 0.1042 - val_mean_iou: 0.7170\n",
      "Epoch 15/100\n",
      "584/603 [============================>.] - ETA: 0s - loss: 0.0798 - mean_iou: 0.7211\n",
      "Epoch 00015: val_loss did not improve\n",
      "603/603 [==============================] - 2s 3ms/step - loss: 0.0799 - mean_iou: 0.7212 - val_loss: 0.1044 - val_mean_iou: 0.7251\n",
      "Epoch 16/100\n",
      "584/603 [============================>.] - ETA: 0s - loss: 0.0797 - mean_iou: 0.7286\n",
      "Epoch 00016: val_loss improved from 0.10420 to 0.09750, saving model to model-tmp-v3.h5\n",
      "603/603 [==============================] - 2s 3ms/step - loss: 0.0799 - mean_iou: 0.7287 - val_loss: 0.0975 - val_mean_iou: 0.7323\n",
      "Epoch 17/100\n",
      "584/603 [============================>.] - ETA: 0s - loss: 0.0756 - mean_iou: 0.7355\n",
      "Epoch 00017: val_loss did not improve\n",
      "603/603 [==============================] - 2s 3ms/step - loss: 0.0756 - mean_iou: 0.7356 - val_loss: 0.1005 - val_mean_iou: 0.7391\n",
      "Epoch 18/100\n",
      "584/603 [============================>.] - ETA: 0s - loss: 0.0752 - mean_iou: 0.7421\n",
      "Epoch 00018: val_loss did not improve\n",
      "603/603 [==============================] - 2s 3ms/step - loss: 0.0755 - mean_iou: 0.7422 - val_loss: 0.1042 - val_mean_iou: 0.7451\n",
      "Epoch 19/100\n",
      "584/603 [============================>.] - ETA: 0s - loss: 0.0738 - mean_iou: 0.7476\n",
      "Epoch 00019: val_loss improved from 0.09750 to 0.09456, saving model to model-tmp-v3.h5\n",
      "603/603 [==============================] - 2s 3ms/step - loss: 0.0738 - mean_iou: 0.7477 - val_loss: 0.0946 - val_mean_iou: 0.7505\n",
      "Epoch 20/100\n",
      "584/603 [============================>.] - ETA: 0s - loss: 0.0760 - mean_iou: 0.7528\n",
      "Epoch 00020: val_loss did not improve\n",
      "603/603 [==============================] - 2s 3ms/step - loss: 0.0751 - mean_iou: 0.7529 - val_loss: 0.0960 - val_mean_iou: 0.7555\n",
      "Epoch 21/100\n",
      "584/603 [============================>.] - ETA: 0s - loss: 0.0735 - mean_iou: 0.7578\n",
      "Epoch 00021: val_loss did not improve\n",
      "603/603 [==============================] - 2s 3ms/step - loss: 0.0730 - mean_iou: 0.7579 - val_loss: 0.0947 - val_mean_iou: 0.7602\n",
      "Epoch 22/100\n",
      "584/603 [============================>.] - ETA: 0s - loss: 0.0723 - mean_iou: 0.7625\n",
      "Epoch 00022: val_loss did not improve\n",
      "603/603 [==============================] - 1s 2ms/step - loss: 0.0718 - mean_iou: 0.7625 - val_loss: 0.0951 - val_mean_iou: 0.7646\n",
      "Epoch 23/100\n",
      "584/603 [============================>.] - ETA: 0s - loss: 0.0706 - mean_iou: 0.7665\n",
      "Epoch 00023: val_loss improved from 0.09456 to 0.09404, saving model to model-tmp-v3.h5\n",
      "603/603 [==============================] - 2s 3ms/step - loss: 0.0709 - mean_iou: 0.7666 - val_loss: 0.0940 - val_mean_iou: 0.7686\n",
      "Epoch 24/100\n",
      "584/603 [============================>.] - ETA: 0s - loss: 0.0713 - mean_iou: 0.7704\n",
      "Epoch 00024: val_loss did not improve\n",
      "603/603 [==============================] - 1s 2ms/step - loss: 0.0716 - mean_iou: 0.7705 - val_loss: 0.1003 - val_mean_iou: 0.7722\n",
      "Epoch 25/100\n",
      "584/603 [============================>.] - ETA: 0s - loss: 0.0731 - mean_iou: 0.7738\n",
      "Epoch 00025: val_loss did not improve\n",
      "603/603 [==============================] - 2s 3ms/step - loss: 0.0731 - mean_iou: 0.7738 - val_loss: 0.1021 - val_mean_iou: 0.7755\n",
      "Epoch 26/100\n",
      "584/603 [============================>.] - ETA: 0s - loss: 0.0715 - mean_iou: 0.7772\n",
      "Epoch 00026: val_loss did not improve\n",
      "603/603 [==============================] - 2s 3ms/step - loss: 0.0714 - mean_iou: 0.7772 - val_loss: 0.1001 - val_mean_iou: 0.7787\n",
      "Epoch 27/100\n",
      "584/603 [============================>.] - ETA: 0s - loss: 0.0704 - mean_iou: 0.7800\n",
      "Epoch 00027: val_loss improved from 0.09404 to 0.08803, saving model to model-tmp-v3.h5\n",
      "603/603 [==============================] - 2s 3ms/step - loss: 0.0707 - mean_iou: 0.7800 - val_loss: 0.0880 - val_mean_iou: 0.7816\n",
      "Epoch 28/100\n",
      "584/603 [============================>.] - ETA: 0s - loss: 0.0692 - mean_iou: 0.7830\n",
      "Epoch 00028: val_loss did not improve\n",
      "603/603 [==============================] - 2s 3ms/step - loss: 0.0689 - mean_iou: 0.7830 - val_loss: 0.0932 - val_mean_iou: 0.7845\n"
     ]
    },
    {
     "name": "stdout",
     "output_type": "stream",
     "text": [
      "Epoch 29/100\n",
      "584/603 [============================>.] - ETA: 0s - loss: 0.0689 - mean_iou: 0.7858\n",
      "Epoch 00029: val_loss did not improve\n",
      "603/603 [==============================] - 2s 3ms/step - loss: 0.0687 - mean_iou: 0.7859 - val_loss: 0.0916 - val_mean_iou: 0.7872\n",
      "Epoch 30/100\n",
      "584/603 [============================>.] - ETA: 0s - loss: 0.0678 - mean_iou: 0.7885\n",
      "Epoch 00030: val_loss did not improve\n",
      "603/603 [==============================] - 2s 3ms/step - loss: 0.0679 - mean_iou: 0.7886 - val_loss: 0.0901 - val_mean_iou: 0.7898\n",
      "Epoch 31/100\n",
      "584/603 [============================>.] - ETA: 0s - loss: 0.0682 - mean_iou: 0.7909\n",
      "Epoch 00031: val_loss did not improve\n",
      "603/603 [==============================] - 1s 2ms/step - loss: 0.0677 - mean_iou: 0.7910 - val_loss: 0.0922 - val_mean_iou: 0.7922\n",
      "Epoch 32/100\n",
      "584/603 [============================>.] - ETA: 0s - loss: 0.0671 - mean_iou: 0.7933\n",
      "Epoch 00032: val_loss improved from 0.08803 to 0.08684, saving model to model-tmp-v3.h5\n",
      "603/603 [==============================] - 2s 3ms/step - loss: 0.0662 - mean_iou: 0.7933 - val_loss: 0.0868 - val_mean_iou: 0.7944\n",
      "Epoch 33/100\n",
      "584/603 [============================>.] - ETA: 0s - loss: 0.0653 - mean_iou: 0.7955\n",
      "Epoch 00033: val_loss did not improve\n",
      "603/603 [==============================] - 1s 2ms/step - loss: 0.0655 - mean_iou: 0.7956 - val_loss: 0.0896 - val_mean_iou: 0.7967\n",
      "Epoch 34/100\n",
      "584/603 [============================>.] - ETA: 0s - loss: 0.0648 - mean_iou: 0.7977\n",
      "Epoch 00034: val_loss did not improve\n",
      "603/603 [==============================] - 1s 2ms/step - loss: 0.0655 - mean_iou: 0.7978 - val_loss: 0.0919 - val_mean_iou: 0.7988\n",
      "Epoch 35/100\n",
      "584/603 [============================>.] - ETA: 0s - loss: 0.0671 - mean_iou: 0.7997\n",
      "Epoch 00035: val_loss did not improve\n",
      "603/603 [==============================] - 1s 2ms/step - loss: 0.0676 - mean_iou: 0.7998 - val_loss: 0.0882 - val_mean_iou: 0.8007\n",
      "Epoch 36/100\n",
      "584/603 [============================>.] - ETA: 0s - loss: 0.0655 - mean_iou: 0.8016\n",
      "Epoch 00036: val_loss did not improve\n",
      "603/603 [==============================] - 1s 2ms/step - loss: 0.0653 - mean_iou: 0.8016 - val_loss: 0.0874 - val_mean_iou: 0.8026\n",
      "Epoch 37/100\n",
      "584/603 [============================>.] - ETA: 0s - loss: 0.0642 - mean_iou: 0.8034\n",
      "Epoch 00037: val_loss did not improve\n",
      "603/603 [==============================] - 1s 2ms/step - loss: 0.0643 - mean_iou: 0.8034 - val_loss: 0.0927 - val_mean_iou: 0.8044\n",
      "Epoch 38/100\n",
      "584/603 [============================>.] - ETA: 0s - loss: 0.0636 - mean_iou: 0.8052\n",
      "Epoch 00038: val_loss did not improve\n",
      "603/603 [==============================] - 1s 2ms/step - loss: 0.0635 - mean_iou: 0.8053 - val_loss: 0.0947 - val_mean_iou: 0.8061\n",
      "Epoch 39/100\n",
      "584/603 [============================>.] - ETA: 0s - loss: 0.0649 - mean_iou: 0.8068\n",
      "Epoch 00039: val_loss did not improve\n",
      "603/603 [==============================] - 1s 2ms/step - loss: 0.0649 - mean_iou: 0.8068 - val_loss: 0.0908 - val_mean_iou: 0.8077\n",
      "Epoch 40/100\n",
      "584/603 [============================>.] - ETA: 0s - loss: 0.0634 - mean_iou: 0.8085\n",
      "Epoch 00040: val_loss did not improve\n",
      "603/603 [==============================] - 1s 2ms/step - loss: 0.0637 - mean_iou: 0.8085 - val_loss: 0.0875 - val_mean_iou: 0.8093\n",
      "Epoch 41/100\n",
      "584/603 [============================>.] - ETA: 0s - loss: 0.0637 - mean_iou: 0.8100\n",
      "Epoch 00041: val_loss did not improve\n",
      "603/603 [==============================] - 1s 2ms/step - loss: 0.0636 - mean_iou: 0.8101 - val_loss: 0.0894 - val_mean_iou: 0.8108\n",
      "Epoch 42/100\n",
      "584/603 [============================>.] - ETA: 0s - loss: 0.0630 - mean_iou: 0.8116\n",
      "Epoch 00042: val_loss did not improve\n",
      "603/603 [==============================] - 1s 2ms/step - loss: 0.0627 - mean_iou: 0.8116 - val_loss: 0.0870 - val_mean_iou: 0.8123\n",
      "Epoch 43/100\n",
      "584/603 [============================>.] - ETA: 0s - loss: 0.0649 - mean_iou: 0.8130\n",
      "Epoch 00043: val_loss did not improve\n",
      "603/603 [==============================] - 1s 2ms/step - loss: 0.0643 - mean_iou: 0.8130 - val_loss: 0.1051 - val_mean_iou: 0.8137\n",
      "Epoch 44/100\n",
      "584/603 [============================>.] - ETA: 0s - loss: 0.0614 - mean_iou: 0.8144\n",
      "Epoch 00044: val_loss did not improve\n",
      "603/603 [==============================] - 1s 2ms/step - loss: 0.0609 - mean_iou: 0.8144 - val_loss: 0.0936 - val_mean_iou: 0.8151\n",
      "Epoch 45/100\n",
      "584/603 [============================>.] - ETA: 0s - loss: 0.0621 - mean_iou: 0.8157\n",
      "Epoch 00045: val_loss improved from 0.08684 to 0.08645, saving model to model-tmp-v3.h5\n",
      "603/603 [==============================] - 2s 3ms/step - loss: 0.0631 - mean_iou: 0.8157 - val_loss: 0.0864 - val_mean_iou: 0.8164\n",
      "Epoch 46/100\n",
      "584/603 [============================>.] - ETA: 0s - loss: 0.0593 - mean_iou: 0.8170\n",
      "Epoch 00046: val_loss improved from 0.08645 to 0.08400, saving model to model-tmp-v3.h5\n",
      "603/603 [==============================] - 2s 3ms/step - loss: 0.0598 - mean_iou: 0.8170 - val_loss: 0.0840 - val_mean_iou: 0.8177\n",
      "Epoch 47/100\n",
      "584/603 [============================>.] - ETA: 0s - loss: 0.0584 - mean_iou: 0.8184\n",
      "Epoch 00047: val_loss did not improve\n",
      "603/603 [==============================] - 1s 2ms/step - loss: 0.0593 - mean_iou: 0.8184 - val_loss: 0.0976 - val_mean_iou: 0.8191\n",
      "Epoch 48/100\n",
      "584/603 [============================>.] - ETA: 0s - loss: 0.0584 - mean_iou: 0.8197\n",
      "Epoch 00048: val_loss did not improve\n",
      "603/603 [==============================] - 1s 2ms/step - loss: 0.0592 - mean_iou: 0.8197 - val_loss: 0.0895 - val_mean_iou: 0.8203\n",
      "Epoch 49/100\n",
      "584/603 [============================>.] - ETA: 0s - loss: 0.0573 - mean_iou: 0.8210\n",
      "Epoch 00049: val_loss did not improve\n",
      "603/603 [==============================] - 1s 2ms/step - loss: 0.0571 - mean_iou: 0.8210 - val_loss: 0.0910 - val_mean_iou: 0.8217\n",
      "Epoch 50/100\n",
      "584/603 [============================>.] - ETA: 0s - loss: 0.0588 - mean_iou: 0.8223\n",
      "Epoch 00050: val_loss did not improve\n",
      "603/603 [==============================] - 1s 2ms/step - loss: 0.0593 - mean_iou: 0.8223 - val_loss: 0.0947 - val_mean_iou: 0.8229\n",
      "Epoch 51/100\n",
      "584/603 [============================>.] - ETA: 0s - loss: 0.0578 - mean_iou: 0.8233\n",
      "Epoch 00051: val_loss did not improve\n",
      "603/603 [==============================] - 1s 2ms/step - loss: 0.0581 - mean_iou: 0.8234 - val_loss: 0.0857 - val_mean_iou: 0.8240\n",
      "Epoch 52/100\n",
      "584/603 [============================>.] - ETA: 0s - loss: 0.0561 - mean_iou: 0.8246\n",
      "Epoch 00052: val_loss did not improve\n",
      "603/603 [==============================] - 1s 2ms/step - loss: 0.0556 - mean_iou: 0.8246 - val_loss: 0.0935 - val_mean_iou: 0.8252\n",
      "Epoch 53/100\n",
      "584/603 [============================>.] - ETA: 0s - loss: 0.0549 - mean_iou: 0.8257\n",
      "Epoch 00053: val_loss did not improve\n",
      "603/603 [==============================] - 1s 2ms/step - loss: 0.0556 - mean_iou: 0.8258 - val_loss: 0.0892 - val_mean_iou: 0.8264\n",
      "Epoch 54/100\n",
      "584/603 [============================>.] - ETA: 0s - loss: 0.0554 - mean_iou: 0.8269\n",
      "Epoch 00054: val_loss did not improve\n",
      "603/603 [==============================] - 1s 2ms/step - loss: 0.0547 - mean_iou: 0.8269 - val_loss: 0.0965 - val_mean_iou: 0.8275\n",
      "Epoch 55/100\n",
      "584/603 [============================>.] - ETA: 0s - loss: 0.0537 - mean_iou: 0.8280\n",
      "Epoch 00055: val_loss did not improve\n",
      "603/603 [==============================] - 1s 2ms/step - loss: 0.0541 - mean_iou: 0.8280 - val_loss: 0.0863 - val_mean_iou: 0.8286\n",
      "Epoch 56/100\n",
      "584/603 [============================>.] - ETA: 0s - loss: 0.0524 - mean_iou: 0.8292\n",
      "Epoch 00056: val_loss did not improve\n",
      "603/603 [==============================] - 1s 2ms/step - loss: 0.0530 - mean_iou: 0.8292 - val_loss: 0.0852 - val_mean_iou: 0.8297\n",
      "Epoch 57/100\n",
      "584/603 [============================>.] - ETA: 0s - loss: 0.0531 - mean_iou: 0.8303\n",
      "Epoch 00057: val_loss did not improve\n",
      "603/603 [==============================] - 1s 2ms/step - loss: 0.0535 - mean_iou: 0.8303 - val_loss: 0.0868 - val_mean_iou: 0.8308\n",
      "Epoch 58/100\n",
      "584/603 [============================>.] - ETA: 0s - loss: 0.0538 - mean_iou: 0.8313\n",
      "Epoch 00058: val_loss did not improve\n",
      "603/603 [==============================] - 1s 2ms/step - loss: 0.0541 - mean_iou: 0.8313 - val_loss: 0.0918 - val_mean_iou: 0.8318\n",
      "Epoch 59/100\n"
     ]
    },
    {
     "name": "stdout",
     "output_type": "stream",
     "text": [
      "584/603 [============================>.] - ETA: 0s - loss: 0.0524 - mean_iou: 0.8323\n",
      "Epoch 00059: val_loss did not improve\n",
      "603/603 [==============================] - 1s 2ms/step - loss: 0.0518 - mean_iou: 0.8323 - val_loss: 0.0904 - val_mean_iou: 0.8329\n",
      "Epoch 60/100\n",
      "584/603 [============================>.] - ETA: 0s - loss: 0.0510 - mean_iou: 0.8334\n",
      "Epoch 00060: val_loss did not improve\n",
      "603/603 [==============================] - 2s 3ms/step - loss: 0.0506 - mean_iou: 0.8334 - val_loss: 0.0911 - val_mean_iou: 0.8339\n",
      "Epoch 61/100\n",
      "584/603 [============================>.] - ETA: 0s - loss: 0.0515 - mean_iou: 0.8343\n",
      "Epoch 00061: val_loss did not improve\n",
      "603/603 [==============================] - 2s 3ms/step - loss: 0.0514 - mean_iou: 0.8344 - val_loss: 0.0968 - val_mean_iou: 0.8349\n",
      "Epoch 62/100\n",
      "584/603 [============================>.] - ETA: 0s - loss: 0.0515 - mean_iou: 0.8353\n",
      "Epoch 00062: val_loss did not improve\n",
      "603/603 [==============================] - 1s 2ms/step - loss: 0.0511 - mean_iou: 0.8353 - val_loss: 0.0977 - val_mean_iou: 0.8358\n",
      "Epoch 63/100\n",
      "584/603 [============================>.] - ETA: 0s - loss: 0.0486 - mean_iou: 0.8363\n",
      "Epoch 00063: val_loss did not improve\n",
      "603/603 [==============================] - 1s 2ms/step - loss: 0.0484 - mean_iou: 0.8363 - val_loss: 0.0968 - val_mean_iou: 0.8368\n",
      "Epoch 64/100\n",
      "584/603 [============================>.] - ETA: 0s - loss: 0.0476 - mean_iou: 0.8373\n",
      "Epoch 00064: val_loss did not improve\n",
      "603/603 [==============================] - 2s 3ms/step - loss: 0.0480 - mean_iou: 0.8373 - val_loss: 0.0909 - val_mean_iou: 0.8378\n",
      "Epoch 65/100\n",
      "584/603 [============================>.] - ETA: 0s - loss: 0.0492 - mean_iou: 0.8382\n",
      "Epoch 00065: val_loss did not improve\n",
      "603/603 [==============================] - 1s 2ms/step - loss: 0.0494 - mean_iou: 0.8382 - val_loss: 0.0957 - val_mean_iou: 0.8387\n",
      "Epoch 66/100\n",
      "584/603 [============================>.] - ETA: 0s - loss: 0.0488 - mean_iou: 0.8391\n",
      "Epoch 00066: val_loss did not improve\n",
      "603/603 [==============================] - 1s 2ms/step - loss: 0.0488 - mean_iou: 0.8391 - val_loss: 0.1007 - val_mean_iou: 0.8396\n",
      "Epoch 67/100\n",
      "584/603 [============================>.] - ETA: 0s - loss: 0.0491 - mean_iou: 0.8400\n",
      "Epoch 00067: val_loss did not improve\n",
      "603/603 [==============================] - 2s 3ms/step - loss: 0.0494 - mean_iou: 0.8400 - val_loss: 0.0969 - val_mean_iou: 0.8404\n",
      "Epoch 68/100\n",
      "584/603 [============================>.] - ETA: 0s - loss: 0.0468 - mean_iou: 0.8408\n",
      "Epoch 00068: val_loss did not improve\n",
      "603/603 [==============================] - 2s 2ms/step - loss: 0.0469 - mean_iou: 0.8409 - val_loss: 0.0906 - val_mean_iou: 0.8413\n",
      "Epoch 69/100\n",
      "584/603 [============================>.] - ETA: 0s - loss: 0.0455 - mean_iou: 0.8417\n",
      "Epoch 00069: val_loss did not improve\n",
      "603/603 [==============================] - 2s 3ms/step - loss: 0.0454 - mean_iou: 0.8417 - val_loss: 0.0954 - val_mean_iou: 0.8422\n",
      "Epoch 70/100\n",
      "584/603 [============================>.] - ETA: 0s - loss: 0.0436 - mean_iou: 0.8426\n",
      "Epoch 00070: val_loss did not improve\n",
      "603/603 [==============================] - 1s 2ms/step - loss: 0.0438 - mean_iou: 0.8426 - val_loss: 0.0922 - val_mean_iou: 0.8431\n",
      "Epoch 71/100\n",
      "584/603 [============================>.] - ETA: 0s - loss: 0.0442 - mean_iou: 0.8435\n",
      "Epoch 00071: val_loss did not improve\n",
      "603/603 [==============================] - 2s 3ms/step - loss: 0.0441 - mean_iou: 0.8435 - val_loss: 0.0915 - val_mean_iou: 0.8440\n",
      "Epoch 72/100\n",
      "584/603 [============================>.] - ETA: 0s - loss: 0.0423 - mean_iou: 0.8444\n",
      "Epoch 00072: val_loss did not improve\n",
      "603/603 [==============================] - 1s 2ms/step - loss: 0.0422 - mean_iou: 0.8444 - val_loss: 0.0968 - val_mean_iou: 0.8449\n",
      "Epoch 73/100\n",
      "584/603 [============================>.] - ETA: 0s - loss: 0.0417 - mean_iou: 0.8453\n",
      "Epoch 00073: val_loss did not improve\n",
      "603/603 [==============================] - 1s 2ms/step - loss: 0.0417 - mean_iou: 0.8453 - val_loss: 0.0992 - val_mean_iou: 0.8458\n",
      "Epoch 74/100\n",
      "584/603 [============================>.] - ETA: 0s - loss: 0.0410 - mean_iou: 0.8462\n",
      "Epoch 00074: val_loss did not improve\n",
      "603/603 [==============================] - 1s 2ms/step - loss: 0.0409 - mean_iou: 0.8462 - val_loss: 0.0971 - val_mean_iou: 0.8467\n",
      "Epoch 75/100\n",
      "584/603 [============================>.] - ETA: 0s - loss: 0.0401 - mean_iou: 0.8471\n",
      "Epoch 00075: val_loss did not improve\n",
      "603/603 [==============================] - 1s 2ms/step - loss: 0.0406 - mean_iou: 0.8471 - val_loss: 0.0947 - val_mean_iou: 0.8475\n",
      "Epoch 76/100\n",
      "584/603 [============================>.] - ETA: 0s - loss: 0.0400 - mean_iou: 0.8479\n",
      "Epoch 00076: val_loss did not improve\n",
      "603/603 [==============================] - 1s 2ms/step - loss: 0.0397 - mean_iou: 0.8480 - val_loss: 0.0974 - val_mean_iou: 0.8484\n",
      "Epoch 77/100\n",
      "584/603 [============================>.] - ETA: 0s - loss: 0.0384 - mean_iou: 0.8488\n",
      "Epoch 00077: val_loss did not improve\n",
      "603/603 [==============================] - 1s 2ms/step - loss: 0.0384 - mean_iou: 0.8488 - val_loss: 0.1001 - val_mean_iou: 0.8493\n",
      "Epoch 78/100\n",
      "584/603 [============================>.] - ETA: 0s - loss: 0.0382 - mean_iou: 0.8497\n",
      "Epoch 00078: val_loss did not improve\n",
      "603/603 [==============================] - 1s 2ms/step - loss: 0.0379 - mean_iou: 0.8497 - val_loss: 0.1008 - val_mean_iou: 0.8501\n",
      "Epoch 79/100\n",
      "584/603 [============================>.] - ETA: 0s - loss: 0.0408 - mean_iou: 0.8505\n",
      "Epoch 00079: val_loss did not improve\n",
      "603/603 [==============================] - 1s 2ms/step - loss: 0.0406 - mean_iou: 0.8505 - val_loss: 0.0989 - val_mean_iou: 0.8509\n",
      "Epoch 80/100\n",
      "584/603 [============================>.] - ETA: 0s - loss: 0.0386 - mean_iou: 0.8513\n",
      "Epoch 00080: val_loss did not improve\n",
      "603/603 [==============================] - 1s 2ms/step - loss: 0.0388 - mean_iou: 0.8513 - val_loss: 0.0995 - val_mean_iou: 0.8517\n",
      "Epoch 81/100\n",
      "584/603 [============================>.] - ETA: 0s - loss: 0.0368 - mean_iou: 0.8521\n",
      "Epoch 00081: val_loss did not improve\n",
      "603/603 [==============================] - 1s 2ms/step - loss: 0.0365 - mean_iou: 0.8521 - val_loss: 0.1031 - val_mean_iou: 0.8525\n",
      "Epoch 82/100\n",
      "584/603 [============================>.] - ETA: 0s - loss: 0.0362 - mean_iou: 0.8529\n",
      "Epoch 00082: val_loss did not improve\n",
      "603/603 [==============================] - 1s 2ms/step - loss: 0.0362 - mean_iou: 0.8529 - val_loss: 0.1039 - val_mean_iou: 0.8533\n",
      "Epoch 83/100\n",
      "584/603 [============================>.] - ETA: 0s - loss: 0.0355 - mean_iou: 0.8537\n",
      "Epoch 00083: val_loss did not improve\n",
      "603/603 [==============================] - 1s 2ms/step - loss: 0.0356 - mean_iou: 0.8537 - val_loss: 0.1056 - val_mean_iou: 0.8542\n",
      "Epoch 84/100\n",
      "584/603 [============================>.] - ETA: 0s - loss: 0.0365 - mean_iou: 0.8545\n",
      "Epoch 00084: val_loss did not improve\n",
      "603/603 [==============================] - 1s 2ms/step - loss: 0.0365 - mean_iou: 0.8545 - val_loss: 0.1060 - val_mean_iou: 0.8549\n",
      "Epoch 85/100\n",
      "584/603 [============================>.] - ETA: 0s - loss: 0.0352 - mean_iou: 0.8553\n",
      "Epoch 00085: val_loss did not improve\n",
      "603/603 [==============================] - 1s 2ms/step - loss: 0.0353 - mean_iou: 0.8553 - val_loss: 0.1024 - val_mean_iou: 0.8557\n",
      "Epoch 86/100\n",
      "584/603 [============================>.] - ETA: 0s - loss: 0.0353 - mean_iou: 0.8560\n",
      "Epoch 00086: val_loss did not improve\n",
      "603/603 [==============================] - 1s 2ms/step - loss: 0.0353 - mean_iou: 0.8560 - val_loss: 0.1141 - val_mean_iou: 0.8564\n",
      "Epoch 87/100\n",
      "584/603 [============================>.] - ETA: 0s - loss: 0.0346 - mean_iou: 0.8568\n",
      "Epoch 00087: val_loss did not improve\n",
      "603/603 [==============================] - 1s 2ms/step - loss: 0.0351 - mean_iou: 0.8568 - val_loss: 0.1024 - val_mean_iou: 0.8572\n",
      "Epoch 88/100\n",
      "584/603 [============================>.] - ETA: 0s - loss: 0.0360 - mean_iou: 0.8575\n",
      "Epoch 00088: val_loss did not improve\n",
      "603/603 [==============================] - 1s 2ms/step - loss: 0.0358 - mean_iou: 0.8575 - val_loss: 0.1051 - val_mean_iou: 0.8579\n",
      "Epoch 89/100\n",
      "584/603 [============================>.] - ETA: 0s - loss: 0.0350 - mean_iou: 0.8582\n",
      "Epoch 00089: val_loss did not improve\n",
      "603/603 [==============================] - 1s 2ms/step - loss: 0.0351 - mean_iou: 0.8583 - val_loss: 0.1064 - val_mean_iou: 0.8586\n"
     ]
    },
    {
     "name": "stdout",
     "output_type": "stream",
     "text": [
      "Epoch 90/100\n",
      "584/603 [============================>.] - ETA: 0s - loss: 0.0338 - mean_iou: 0.8590\n",
      "Epoch 00090: val_loss did not improve\n",
      "603/603 [==============================] - 1s 2ms/step - loss: 0.0335 - mean_iou: 0.8590 - val_loss: 0.1117 - val_mean_iou: 0.8594\n",
      "Epoch 91/100\n",
      "584/603 [============================>.] - ETA: 0s - loss: 0.0340 - mean_iou: 0.8597\n",
      "Epoch 00091: val_loss did not improve\n",
      "603/603 [==============================] - 1s 2ms/step - loss: 0.0338 - mean_iou: 0.8597 - val_loss: 0.1114 - val_mean_iou: 0.8601\n",
      "Epoch 92/100\n",
      "584/603 [============================>.] - ETA: 0s - loss: 0.0325 - mean_iou: 0.8604\n",
      "Epoch 00092: val_loss did not improve\n",
      "603/603 [==============================] - 1s 2ms/step - loss: 0.0328 - mean_iou: 0.8604 - val_loss: 0.1126 - val_mean_iou: 0.8608\n",
      "Epoch 93/100\n",
      "584/603 [============================>.] - ETA: 0s - loss: 0.0321 - mean_iou: 0.8611\n",
      "Epoch 00093: val_loss did not improve\n",
      "603/603 [==============================] - 1s 2ms/step - loss: 0.0323 - mean_iou: 0.8611 - val_loss: 0.1122 - val_mean_iou: 0.8615\n",
      "Epoch 94/100\n",
      "584/603 [============================>.] - ETA: 0s - loss: 0.0316 - mean_iou: 0.8618\n",
      "Epoch 00094: val_loss did not improve\n",
      "603/603 [==============================] - 1s 2ms/step - loss: 0.0315 - mean_iou: 0.8618 - val_loss: 0.1149 - val_mean_iou: 0.8622\n",
      "Epoch 95/100\n",
      "584/603 [============================>.] - ETA: 0s - loss: 0.0314 - mean_iou: 0.8625\n",
      "Epoch 00095: val_loss did not improve\n",
      "603/603 [==============================] - 1s 2ms/step - loss: 0.0313 - mean_iou: 0.8625 - val_loss: 0.1186 - val_mean_iou: 0.8629\n",
      "Epoch 96/100\n",
      "600/603 [============================>.] - ETA: 0s - loss: 0.0319 - mean_iou: 0.8632\n",
      "Epoch 00096: val_loss did not improve\n",
      "603/603 [==============================] - 1s 2ms/step - loss: 0.0318 - mean_iou: 0.8632 - val_loss: 0.1107 - val_mean_iou: 0.8635\n",
      "Epoch 97/100\n",
      "584/603 [============================>.] - ETA: 0s - loss: 0.0317 - mean_iou: 0.8639\n",
      "Epoch 00097: val_loss did not improve\n",
      "603/603 [==============================] - 1s 2ms/step - loss: 0.0317 - mean_iou: 0.8639 - val_loss: 0.1124 - val_mean_iou: 0.8642\n",
      "Epoch 98/100\n",
      "584/603 [============================>.] - ETA: 0s - loss: 0.0302 - mean_iou: 0.8645\n",
      "Epoch 00098: val_loss did not improve\n",
      "603/603 [==============================] - 1s 2ms/step - loss: 0.0301 - mean_iou: 0.8645 - val_loss: 0.1154 - val_mean_iou: 0.8649\n",
      "Epoch 99/100\n",
      "592/603 [============================>.] - ETA: 0s - loss: 0.0320 - mean_iou: 0.8652\n",
      "Epoch 00099: val_loss did not improve\n",
      "603/603 [==============================] - 1s 2ms/step - loss: 0.0321 - mean_iou: 0.8652 - val_loss: 0.1162 - val_mean_iou: 0.8655\n",
      "Epoch 100/100\n",
      "584/603 [============================>.] - ETA: 0s - loss: 0.0322 - mean_iou: 0.8658\n",
      "Epoch 00100: val_loss did not improve\n",
      "603/603 [==============================] - 1s 2ms/step - loss: 0.0321 - mean_iou: 0.8658 - val_loss: 0.1181 - val_mean_iou: 0.8661\n"
     ]
    }
   ],
   "source": [
    "#earlystopper = EarlyStopping(patience=5, verbose=1)\n",
    "checkpointer = ModelCheckpoint('model-tmp-v3.h5', verbose=1, save_best_only=True)\n",
    "results = model.fit(X_train, Y_train, validation_split=0.1, batch_size=8, epochs=100, verbose=1, callbacks=[checkpointer])"
   ]
  },
  {
   "cell_type": "code",
   "execution_count": 14,
   "metadata": {},
   "outputs": [
    {
     "name": "stdout",
     "output_type": "stream",
     "text": [
      "\n",
      "Epoch 00001: val_loss did not improve\n",
      "\n",
      "Epoch 00002: val_loss did not improve\n",
      "\n",
      "Epoch 00003: val_loss did not improve\n",
      "\n",
      "Epoch 00004: val_loss did not improve\n",
      "\n",
      "Epoch 00005: val_loss did not improve\n",
      "\n",
      "Epoch 00006: val_loss did not improve\n",
      "\n",
      "Epoch 00007: val_loss did not improve\n",
      "\n",
      "Epoch 00008: val_loss did not improve\n",
      "\n",
      "Epoch 00009: val_loss did not improve\n",
      "\n",
      "Epoch 00010: val_loss did not improve\n",
      "\n",
      "Epoch 00011: val_loss did not improve\n",
      "\n",
      "Epoch 00012: val_loss did not improve\n",
      "\n",
      "Epoch 00013: val_loss did not improve\n",
      "\n",
      "Epoch 00014: val_loss did not improve\n",
      "\n",
      "Epoch 00015: val_loss did not improve\n",
      "\n",
      "Epoch 00016: val_loss did not improve\n",
      "\n",
      "Epoch 00017: val_loss did not improve\n",
      "\n",
      "Epoch 00018: val_loss did not improve\n",
      "\n",
      "Epoch 00019: val_loss did not improve\n",
      "\n",
      "Epoch 00020: val_loss did not improve\n",
      "\n",
      "Epoch 00021: val_loss did not improve\n",
      "\n",
      "Epoch 00022: val_loss did not improve\n",
      "\n",
      "Epoch 00023: val_loss did not improve\n",
      "\n",
      "Epoch 00024: val_loss did not improve\n",
      "\n",
      "Epoch 00025: val_loss did not improve\n",
      "\n",
      "Epoch 00026: val_loss did not improve\n",
      "\n",
      "Epoch 00027: val_loss did not improve\n",
      "\n",
      "Epoch 00028: val_loss did not improve\n",
      "\n",
      "Epoch 00029: val_loss did not improve\n",
      "\n",
      "Epoch 00030: val_loss did not improve\n",
      "Train on 603 samples, validate on 67 samples\n",
      "Epoch 1/1\n",
      "592/603 [============================>.] - ETA: 0s - loss: 0.0233 - mean_iou: 0.8819\n",
      "Epoch 00001: val_loss did not improve\n",
      "603/603 [==============================] - 1s 2ms/step - loss: 0.0234 - mean_iou: 0.8819 - val_loss: 0.1406 - val_mean_iou: 0.8822\n"
     ]
    }
   ],
   "source": [
    "K.set_value(model.optimizer.lr, 0.001)\n",
    "results = model.fit(X_train, Y_train, validation_split=0.1, batch_size=8, epochs=30, verbose=0, callbacks=[checkpointer])\n",
    "results = model.fit(X_train, Y_train, validation_split=0.1, batch_size=8, epochs=1, verbose=1, callbacks=[checkpointer])"
   ]
  },
  {
   "cell_type": "code",
   "execution_count": 15,
   "metadata": {},
   "outputs": [
    {
     "name": "stdout",
     "output_type": "stream",
     "text": [
      "\n",
      "Epoch 00001: val_loss did not improve\n",
      "\n",
      "Epoch 00002: val_loss did not improve\n",
      "\n",
      "Epoch 00003: val_loss did not improve\n",
      "\n",
      "Epoch 00004: val_loss did not improve\n",
      "\n",
      "Epoch 00005: val_loss did not improve\n",
      "\n",
      "Epoch 00006: val_loss did not improve\n",
      "\n",
      "Epoch 00007: val_loss did not improve\n",
      "\n",
      "Epoch 00008: val_loss did not improve\n",
      "\n",
      "Epoch 00009: val_loss did not improve\n",
      "\n",
      "Epoch 00010: val_loss did not improve\n",
      "\n",
      "Epoch 00011: val_loss did not improve\n",
      "\n",
      "Epoch 00012: val_loss did not improve\n",
      "\n",
      "Epoch 00013: val_loss did not improve\n",
      "\n",
      "Epoch 00014: val_loss did not improve\n",
      "\n",
      "Epoch 00015: val_loss did not improve\n",
      "\n",
      "Epoch 00016: val_loss did not improve\n",
      "\n",
      "Epoch 00017: val_loss did not improve\n",
      "\n",
      "Epoch 00018: val_loss did not improve\n",
      "\n",
      "Epoch 00019: val_loss did not improve\n",
      "\n",
      "Epoch 00020: val_loss did not improve\n",
      "\n",
      "Epoch 00021: val_loss did not improve\n",
      "\n",
      "Epoch 00022: val_loss did not improve\n",
      "\n",
      "Epoch 00023: val_loss did not improve\n",
      "\n",
      "Epoch 00024: val_loss did not improve\n",
      "\n",
      "Epoch 00025: val_loss did not improve\n",
      "\n",
      "Epoch 00026: val_loss did not improve\n",
      "\n",
      "Epoch 00027: val_loss did not improve\n",
      "\n",
      "Epoch 00028: val_loss did not improve\n",
      "\n",
      "Epoch 00029: val_loss did not improve\n",
      "\n",
      "Epoch 00030: val_loss did not improve\n",
      "Train on 603 samples, validate on 67 samples\n",
      "Epoch 1/1\n",
      "600/603 [============================>.] - ETA: 0s - loss: 0.0159 - mean_iou: 0.8953\n",
      "Epoch 00001: val_loss did not improve\n",
      "603/603 [==============================] - 1s 2ms/step - loss: 0.0159 - mean_iou: 0.8953 - val_loss: 0.1949 - val_mean_iou: 0.8955\n"
     ]
    }
   ],
   "source": [
    "K.set_value(model.optimizer.lr, 0.0001)\n",
    "results = model.fit(X_train, Y_train, validation_split=0.1, batch_size=8, epochs=30, verbose=0, callbacks=[checkpointer])\n",
    "results = model.fit(X_train, Y_train, validation_split=0.1, batch_size=8, epochs=1, verbose=1, callbacks=[checkpointer])"
   ]
  },
  {
   "cell_type": "code",
   "execution_count": 16,
   "metadata": {},
   "outputs": [
    {
     "name": "stdout",
     "output_type": "stream",
     "text": [
      "\n",
      "Epoch 00001: val_loss did not improve\n",
      "\n",
      "Epoch 00002: val_loss did not improve\n",
      "\n",
      "Epoch 00003: val_loss did not improve\n",
      "\n",
      "Epoch 00004: val_loss did not improve\n",
      "\n",
      "Epoch 00005: val_loss did not improve\n",
      "\n",
      "Epoch 00006: val_loss did not improve\n",
      "\n",
      "Epoch 00007: val_loss did not improve\n",
      "\n",
      "Epoch 00008: val_loss did not improve\n",
      "\n",
      "Epoch 00009: val_loss did not improve\n",
      "\n",
      "Epoch 00010: val_loss did not improve\n",
      "\n",
      "Epoch 00011: val_loss did not improve\n",
      "\n",
      "Epoch 00012: val_loss did not improve\n",
      "\n",
      "Epoch 00013: val_loss did not improve\n",
      "\n",
      "Epoch 00014: val_loss did not improve\n",
      "\n",
      "Epoch 00015: val_loss did not improve\n",
      "\n",
      "Epoch 00016: val_loss did not improve\n",
      "\n",
      "Epoch 00017: val_loss did not improve\n",
      "\n",
      "Epoch 00018: val_loss did not improve\n",
      "\n",
      "Epoch 00019: val_loss did not improve\n",
      "\n",
      "Epoch 00020: val_loss did not improve\n",
      "\n",
      "Epoch 00021: val_loss did not improve\n",
      "\n",
      "Epoch 00022: val_loss did not improve\n",
      "\n",
      "Epoch 00023: val_loss did not improve\n",
      "\n",
      "Epoch 00024: val_loss did not improve\n",
      "\n",
      "Epoch 00025: val_loss did not improve\n",
      "\n",
      "Epoch 00026: val_loss did not improve\n",
      "\n",
      "Epoch 00027: val_loss did not improve\n",
      "\n",
      "Epoch 00028: val_loss did not improve\n",
      "\n",
      "Epoch 00029: val_loss did not improve\n",
      "\n",
      "Epoch 00030: val_loss did not improve\n",
      "Train on 603 samples, validate on 67 samples\n",
      "Epoch 1/1\n",
      "576/603 [===========================>..] - ETA: 0s - loss: 0.0151 - mean_iou: 0.9051\n",
      "Epoch 00001: val_loss did not improve\n",
      "603/603 [==============================] - 1s 2ms/step - loss: 0.0151 - mean_iou: 0.9051 - val_loss: 0.2042 - val_mean_iou: 0.9053\n"
     ]
    }
   ],
   "source": [
    "K.set_value(model.optimizer.lr, 0.00001)\n",
    "results = model.fit(X_train, Y_train, validation_split=0.1, batch_size=8, epochs=30, verbose=0, callbacks=[checkpointer])\n",
    "results = model.fit(X_train, Y_train, validation_split=0.1, batch_size=8, epochs=1, verbose=1, callbacks=[checkpointer])"
   ]
  },
  {
   "cell_type": "code",
   "execution_count": 17,
   "metadata": {},
   "outputs": [
    {
     "name": "stdout",
     "output_type": "stream",
     "text": [
      "603/603 [==============================] - 0s 739us/step\n",
      "67/67 [==============================] - 0s 370us/step\n",
      "65/65 [==============================] - 0s 620us/step\n"
     ]
    }
   ],
   "source": [
    "# Predict on train, val and test\n",
    "model = load_model('model-tmp-v3.h5', custom_objects={'mean_iou': mean_iou})\n",
    "preds_train = model.predict(X_train[:int(X_train.shape[0]*0.9)], verbose=1)\n",
    "preds_val = model.predict(X_train[int(X_train.shape[0]*0.9):], verbose=1)\n",
    "preds_test = model.predict(X_test, verbose=1)\n",
    "\n",
    "# Threshold predictions\n",
    "preds_train_t = (preds_train > 0.5).astype(np.uint8)\n",
    "preds_val_t = (preds_val > 0.5).astype(np.uint8)\n",
    "preds_test_t = (preds_test > 0.5).astype(np.uint8)\n",
    "\n",
    "# Create list of upsampled test masks\n",
    "preds_test_upsampled = []\n",
    "for i in range(len(preds_test)):\n",
    "    preds_test_upsampled.append(resize(np.squeeze(preds_test[i]), \n",
    "                                       (sizes_test[i][0], sizes_test[i][1]), \n",
    "                                       mode='constant', preserve_range=True))"
   ]
  },
  {
   "cell_type": "code",
   "execution_count": 18,
   "metadata": {},
   "outputs": [
    {
     "data": {
      "image/png": "[encoded data removed]",
      "text/plain": [
       "<matplotlib.figure.Figure at 0x7fbb18db2410>"
      ]
     },
     "metadata": {},
     "output_type": "display_data"
    },
    {
     "data": {
      "image/png": "[encoded data removed]",
      "text/plain": [
       "<matplotlib.figure.Figure at 0x7fbb18a9d990>"
      ]
     },
     "metadata": {},
     "output_type": "display_data"
    },
    {
     "data": {
      "image/png": "[encoded data removed]",
      "text/plain": [
       "<matplotlib.figure.Figure at 0x7fbb189d26d0>"
      ]
     },
     "metadata": {},
     "output_type": "display_data"
    }
   ],
   "source": [
    "# Perform a sanity check on some random training samples\n",
    "ix = random.randint(0, len(preds_train_t))\n",
    "imshow(X_train[ix])\n",
    "plt.show()\n",
    "imshow(np.squeeze(Y_train[ix]))\n",
    "plt.show()\n",
    "imshow(np.squeeze(preds_train_t[ix]))\n",
    "plt.show()"
   ]
  },
  {
   "cell_type": "code",
   "execution_count": 19,
   "metadata": {},
   "outputs": [
    {
     "data": {
      "image/png": "[encoded data removed]",
      "text/plain": [
       "<matplotlib.figure.Figure at 0x7fbb18988890>"
      ]
     },
     "metadata": {},
     "output_type": "display_data"
    },
    {
     "data": {
      "image/png": "[encoded data removed]",
      "text/plain": [
       "<matplotlib.figure.Figure at 0x7fbb187ddc90>"
      ]
     },
     "metadata": {},
     "output_type": "display_data"
    },
    {
     "data": {
      "image/png": "[encoded data removed]",
      "text/plain": [
       "<matplotlib.figure.Figure at 0x7fbb186c0890>"
      ]
     },
     "metadata": {},
     "output_type": "display_data"
    }
   ],
   "source": [
    "# Perform a sanity check on some random validation samples\n",
    "ix = random.randint(0, len(preds_val_t))\n",
    "imshow(X_train[int(X_train.shape[0]*0.9):][ix])\n",
    "plt.show()\n",
    "imshow(np.squeeze(Y_train[int(Y_train.shape[0]*0.9):][ix]))\n",
    "plt.show()\n",
    "imshow(np.squeeze(preds_val_t[ix]))\n",
    "plt.show()"
   ]
  },
  {
   "cell_type": "code",
   "execution_count": 20,
   "metadata": {},
   "outputs": [],
   "source": [
    "# Run-length encoding stolen from https://www.kaggle.com/rakhlin/fast-run-length-encoding-python\n",
    "def rle_encoding(x):\n",
    "    dots = np.where(x.T.flatten() == 1)[0]\n",
    "    run_lengths = []\n",
    "    prev = -2\n",
    "    for b in dots:\n",
    "        if (b>prev+1): run_lengths.extend((b + 1, 0))\n",
    "        run_lengths[-1] += 1\n",
    "        prev = b\n",
    "    return run_lengths\n",
    "\n",
    "def prob_to_rles(x, cutoff=0.5):\n",
    "    lab_img = label(x > cutoff)\n",
    "    for i in range(1, lab_img.max() + 1):\n",
    "        yield rle_encoding(lab_img == i)"
   ]
  },
  {
   "cell_type": "code",
   "execution_count": 21,
   "metadata": {
    "scrolled": true
   },
   "outputs": [],
   "source": [
    "new_test_ids = []\n",
    "rles = []\n",
    "for n, id_ in enumerate(test_ids):\n",
    "    rle = list(prob_to_rles(preds_test_upsampled[n]))\n",
    "    rles.extend(rle)\n",
    "    new_test_ids.extend([id_] * len(rle))"
   ]
  },
  {
   "cell_type": "code",
   "execution_count": 22,
   "metadata": {},
   "outputs": [],
   "source": [
    "# Create submission DataFrame\n",
    "sub = pd.DataFrame()\n",
    "sub['ImageId'] = new_test_ids\n",
    "sub['EncodedPixels'] = pd.Series(rles).apply(lambda x: ' '.join(str(y) for y in x))\n",
    "sub.to_csv('sub-tmp-v3.csv', index=False)"
   ]
  }
 ],
 "metadata": {
  "anaconda-cloud": {},
  "kernelspec": {
   "display_name": "Python 2",
   "language": "python",
   "name": "python2"
  },
  "language_info": {
   "codemirror_mode": {
    "name": "ipython",
    "version": 2
   },
   "file_extension": ".py",
   "mimetype": "text/x-python",
   "name": "python",
   "nbconvert_exporter": "python",
   "pygments_lexer": "ipython2",
   "version": "2.7.14"
  },
  "nav_menu": {},
  "nbpresent": {
   "slides": {
    "28b43202-5690-4169-9aca-6b9dabfeb3ec": {
     "id": "28b43202-5690-4169-9aca-6b9dabfeb3ec",
     "prev": null,
     "regions": {
      "3bba644a-cf4d-4a49-9fbd-e2554428cf9f": {
       "attrs": {
        "height": 0.8,
        "width": 0.8,
        "x": 0.1,
        "y": 0.1
       },
       "content": {
        "cell": "f3d3a388-7e2a-4151-9b50-c20498fceacc",
        "part": "whole"
       },
       "id": "3bba644a-cf4d-4a49-9fbd-e2554428cf9f"
      }
     }
    },
    "8104def2-4b68-44a0-8f1b-b03bf3b2a079": {
     "id": "8104def2-4b68-44a0-8f1b-b03bf3b2a079",
     "prev": "28b43202-5690-4169-9aca-6b9dabfeb3ec",
     "regions": {
      "7dded777-1ddf-4100-99ae-25cf1c15b575": {
       "attrs": {
        "height": 0.8,
        "width": 0.8,
        "x": 0.1,
        "y": 0.1
       },
       "content": {
        "cell": "fe47bd48-3414-4657-92e7-8b8d6cb0df00",
        "part": "whole"
       },
       "id": "7dded777-1ddf-4100-99ae-25cf1c15b575"
      }
     }
    }
   },
   "themes": {}
  },
  "toc": {
   "navigate_menu": true,
   "number_sections": true,
   "sideBar": true,
   "threshold": 6,
   "toc_cell": false,
   "toc_section_display": "block",
   "toc_window_display": false
  }
 },
 "nbformat": 4,
 "nbformat_minor": 1
}
